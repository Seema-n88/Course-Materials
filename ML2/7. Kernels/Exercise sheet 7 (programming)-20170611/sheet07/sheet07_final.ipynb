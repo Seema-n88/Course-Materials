{
 "cells": [
  {
   "cell_type": "markdown",
   "metadata": {},
   "source": [
    "# Part A: Kernels for Genes Sequences\n",
    "\n",
    "In this first exercise, various *degree kernels* such as the weighted degree kernel (WDK) will be implemented. We will use Scikit-Learn (http://scikit-learn.org/) for training SVMs. The focus of this exercise is therefore on the computation of the kernels.\n",
    "\n",
    "We consider a problem of binary classification of genes sequences. The training and test data is available in the folder `splices-data`. The following code reads the gene sequences data and stores it in numpy arrays."
   ]
  },
  {
   "cell_type": "code",
   "execution_count": null,
   "metadata": {
    "collapsed": false
   },
   "outputs": [],
   "source": [
    "import numpy\n",
    "Xtrain = numpy.array([numpy.array(list(l)) for l in open('splice-data/splice-train-data.txt','r')])\n",
    "Xtest  = numpy.array([numpy.array(list(l)) for l in open('splice-data/splice-test-data.txt','r')])\n",
    "Ttrain = numpy.array([int(l) for l in open('splice-data/splice-train-label.txt','r')])\n",
    "Ttest  = numpy.array([int(l) for l in open('splice-data/splice-test-label.txt','r')])"
   ]
  },
  {
   "cell_type": "markdown",
   "metadata": {},
   "source": [
    "## Degree Kernels (20 P)\n",
    "\n",
    "We consider the degree kernel of degree $d$ applying to two genes sequences $x$ and $x'$ and defined as:\n",
    "\n",
    "$$\n",
    "k_d(x,x') = \\sum_{l=1}^{L-d+1} \\boldsymbol{1}_{u_{l,d}(x) = u_{l,d}(x')}\n",
    "$$\n",
    "\n",
    "where $l$ iterates over the whole genes sequence, $u_{l,d}(x)$ is a subsequence of $x$ starting at position $l$ and of length $d$, and $\\boldsymbol{1}_{\\{\\}}$ is an indicator variable for the equality test given as argument. Given a training set and test set of genes sequences, implement a function that *efficiently* computes the kernel matrices for a certain degree $d \\in \\{1,2,3,4\\}$."
   ]
  },
  {
   "cell_type": "code",
   "execution_count": null,
   "metadata": {
    "collapsed": true
   },
   "outputs": [],
   "source": [
    "def compute_kmatrix(X1, X2, degree):\n",
    "    compare_matrix = X1[:,numpy.newaxis,:] == X2[numpy.newaxis, :, :]\n",
    "    # we use cumsum to establish a relationship between all entries\n",
    "    C = numpy.cumsum(compare_matrix, axis=2)\n",
    "    # we only compare consecutive intervals with length 'degree'\n",
    "    C[:,:,degree:] -= C[:,:,:-degree]\n",
    "    Kmatrix = numpy.sum(numpy.where(C==degree, 1, 0), axis=2)\n",
    "    return Kmatrix\n",
    "\n",
    "def getdegreekernels(Xtrain,Xtest,degree):\n",
    "    # first compute kernel matrix for d=1\n",
    "    Ktrain = compute_kmatrix(Xtrain, Xtrain, degree)\n",
    "    Ktest = compute_kmatrix(Xtest, Xtrain, degree)\n",
    "    \n",
    "    assert(Ktrain.shape==(len(Xtrain),len(Xtrain)) and Ktest.shape==(len(Xtest),len(Xtrain)))\n",
    "    return Ktrain, Ktest"
   ]
  },
  {
   "cell_type": "markdown",
   "metadata": {},
   "source": [
    "The code below calls the function you implemented for various degrees `d`, trains SVMs based on these kernels, and measures the prediction accuracy. It can be expected to run in less than 1 minute."
   ]
  },
  {
   "cell_type": "code",
   "execution_count": 3,
   "metadata": {
    "collapsed": false
   },
   "outputs": [
    {
     "name": "stdout",
     "output_type": "stream",
     "text": [
      "degree: 1   training accuracy: 0.989   test accuracy: 0.914\n",
      "degree: 2   training accuracy: 1.000   test accuracy: 0.936\n",
      "degree: 3   training accuracy: 1.000   test accuracy: 0.962\n",
      "degree: 4   training accuracy: 1.000   test accuracy: 0.954\n"
     ]
    }
   ],
   "source": [
    "from sklearn import svm\n",
    "Ktrains,Ktests = [None]*4,[None]*4\n",
    "\n",
    "for i in range(4):\n",
    "    Ktrains[i],Ktests[i] = getdegreekernels(Xtrain,Xtest,i+1)\n",
    "    mysvm = svm.SVC(kernel='precomputed').fit(Ktrains[i],Ttrain)\n",
    "    Ytrain = mysvm.predict(Ktrains[i])\n",
    "    Ytest = mysvm.predict(Ktests[i])\n",
    "    print('degree: %d   training accuracy: %.3f   test accuracy: %.3f'% \\\n",
    "          (i+1,(Ytrain==Ttrain).mean(),(Ytest==Ttest).mean()))"
   ]
  },
  {
   "cell_type": "markdown",
   "metadata": {},
   "source": [
    "## Weighted Degree Kernel (10 P)\n",
    "\n",
    "We now consider a weighted degree kernel with uniform weights:\n",
    "\n",
    "$$\n",
    "k(x,x') = \\sum_{d=1}^4 k_d(x,x')\n",
    "$$\n",
    "\n",
    "where $k_d(x,x')$ is the kernel with degree $d$ that was implemented in the previous section. *Construct* the kernel matrices for the weighted degree kernel and *compute* the training and test accuracy of an SVM trained with this new kernel."
   ]
  },
  {
   "cell_type": "code",
   "execution_count": 9,
   "metadata": {
    "collapsed": false
   },
   "outputs": [
    {
     "name": "stdout",
     "output_type": "stream",
     "text": [
      "training accuracy: 1.000   test accuracy: 0.966\n"
     ]
    }
   ],
   "source": [
    "### Replace by our own code\n",
    "def wdk(Ktrains,Ktests,Ttrain,Ttest):\n",
    "    #Ktrains[i],Ktests[i] = getdegreekernels(Xtrain,Xtest,i+1)\n",
    "    wdKtrain = numpy.zeros(Ktrains[0].shape)\n",
    "    wdKtest = numpy.zeros(Ktests[0].shape)\n",
    "    for i in range(4):\n",
    "        wdKtrain +=  Ktrains[i]\n",
    "        wdKtest  +=  Ktests[i]\n",
    "    mysvm = svm.SVC(kernel='precomputed').fit(wdKtrain,Ttrain)\n",
    "    Ytrain = mysvm.predict(wdKtrain)\n",
    "    Ytest = mysvm.predict(wdKtest)\n",
    "    print('training accuracy: %.3f   test accuracy: %.3f'% \\\n",
    "          ((Ytrain==Ttrain).mean(),(Ytest==Ttest).mean()))\n",
    "\n",
    "wdk(Ktrains,Ktests,Ttrain,Ttest)\n",
    "###"
   ]
  },
  {
   "cell_type": "markdown",
   "metadata": {},
   "source": [
    "# Part B: Kernels for Text\n",
    "\n",
    "Structured kernels can also be used for classifying text data. In this exercise, we consider the classification of a subset of the 20-newsgroups data (available at http://qwone.com/~jason/20Newsgroups/). A subset of this data composed only of texts of class `comp.graphics` and `sci.med` is given in the folder `newsgroup-data`. The first class is assigned label `-1` and the second class is assigned label `+1`. Furthermore, the beginning and the end of the newsgroup messages are removed as they typically contain information that makes the classification problem trivial. Like for the genes sequences dataset, data files are composed of multiple rows, where each row corresponds to one example. The code below extracts the fifth message of the training set and displays its 500 first characters."
   ]
  },
  {
   "cell_type": "code",
   "execution_count": 10,
   "metadata": {
    "collapsed": false
   },
   "outputs": [
    {
     "name": "stdout",
     "output_type": "stream",
     "text": [
      "hat is, >>center and radius, exactly fitting those points?  I know how\n",
      "to do it >>for a circle (from 3 points), but do not immediately see a\n",
      ">>straightforward way to do it in 3-D.  I have checked some >>geometry\n",
      "books, Graphics Gems, and Farin, but am still at a loss? >>Please have\n",
      "mercy on me and provide the solution?   > >Wouldn't this require a\n",
      "hyper-sphere.  In 3-space, 4 points over specifies >a sphere as far as\n",
      "I can see.  Unless that is you can prove that a point >exists in\n",
      "3-space that  [...]\n"
     ]
    }
   ],
   "source": [
    "import textwrap\n",
    "text = list(open('newsgroup-data/newsgroup-train-data.txt','r'))[4]\n",
    "print(textwrap.fill(text[:500]+' [...]'))"
   ]
  },
  {
   "cell_type": "markdown",
   "metadata": {},
   "source": [
    "## Creating Bag-Of-Words (10 P)\n",
    "\n",
    "A convenient way of representing text data is as bag-of-words: a set composed of all the words occuring in the document. For the purpose of this exercise, we formally define a word as an isolated sequence of at least three consecutive alphabetical characters. Furthermore, a set of `stopwords` containing mostly uninformative words such as prepositions or conjunctions that should be excluded from the bag-of-word representation is provided in the file `stopwords.txt`. Create a function `text2bow(text)` that converts a text into a bag of words following the just described specifications."
   ]
  },
  {
   "cell_type": "code",
   "execution_count": 16,
   "metadata": {
    "collapsed": false
   },
   "outputs": [],
   "source": [
    "import re\n",
    "from sets import Set\n",
    "def text2bow(text):\n",
    "    stopwordsList = list(open('stopwords.txt','r'))\n",
    "    stopwords = Set()\n",
    "    for stop in stopwordsList:\n",
    "        stop = stop.strip(\"\\n\")\n",
    "        stopwords.add(stop)\n",
    "    bow = Set()\n",
    "    text = re.findall(r'\\w\\w\\w+', text)\n",
    "    for word in text:\n",
    "        word = word.strip(\".!?,\")\n",
    "        bow.add(word)\n",
    "        bow.difference_update(stopwords)\n",
    "    return bow"
   ]
  },
  {
   "cell_type": "markdown",
   "metadata": {},
   "source": [
    "Your bag-of-words implementation can be tested for the same text shown above by running the code below."
   ]
  },
  {
   "cell_type": "code",
   "execution_count": 17,
   "metadata": {
    "collapsed": false,
    "scrolled": true
   },
   "outputs": [
    {
     "name": "stdout",
     "output_type": "stream",
     "text": [
      "Set(['hyper', 'diameter', 'steve', 'Take', 'still', 'find',\n",
      "'intersection', 'choose', 'circle', 'hat', 'non', 'straightforward',\n",
      "'far', 'possibly', 'cannot', 'equidistant', 'know', 'immediately',\n",
      "'one', 'loss', 'solution', 'either', 'distant', 'Check', 'Gems',\n",
      "'lie', 'right', 'exists', 'relative', 'see', 'books', 'radius',\n",
      "'close', 'happen', 'best', 'subject', 'space', 'centre', 'coplaner',\n",
      "'Let', 'Algorithm', 'This', 'perpendicular', 'quite', 'desired',\n",
      "'Unless', 'circumference', 'geometry', 'could', 'Find', 'passing',\n",
      "'otherwise', 'specifies', 'point', 'Pictures', 'Please', 'three',\n",
      "'lies', 'Farin', 'least', 'Sorry', 'equi', 'necessarily', 'checked',\n",
      "'prove', 'bisectors', 'But', 'way', 'define', 'exactly', 'failure',\n",
      "'bisector', 'angles', 'line', 'must', 'mercy', 'Consider', 'require',\n",
      "'collinear', 'error', 'meet', 'Any', 'defined', 'Numerically',\n",
      "'surface', 'sphere', 'say', 'Call', 'coincident', 'need', 'Correct',\n",
      "'Wouldn', 'containing', 'since', 'provide', 'check', 'fitting',\n",
      "'take', 'Graphics', 'ABC', 'infinity', 'normal', 'may', 'wrong',\n",
      "'plane', 'two', 'The', 'Yes', 'All', 'center', 'four', 'well',\n",
      "'points', 'normally', 'fact'])\n"
     ]
    }
   ],
   "source": [
    "print(textwrap.fill(str(text2bow(text))))"
   ]
  },
  {
   "cell_type": "markdown",
   "metadata": {},
   "source": [
    "## Implementing Bag-Of-Words Kernels (15 P)\n",
    "\n",
    "In the following, your task is to implement a simple kernel over bag-of-words. The kernel between two bag-of-words $\\mathcal{X}$ and $\\mathcal{Y}$ is defined as\n",
    "\n",
    "$$\n",
    "k(\\mathcal{X},\\mathcal{Y}) = \\sum_{w \\in \\mathcal{L}} 1_{w \\in \\mathcal{X} \\wedge w \\in \\mathcal{Y}}\n",
    "$$\n",
    "\n",
    "where $1_{w \\in \\mathcal{X} \\wedge w \\in \\mathcal{Y}}$ is an indicator function testing membership to both bags of words. The language $\\mathcal{L}$ (set of all existing words) is typically unknown and very large. However, it is computationally equivalent to reduce the language $\\mathcal{L}$ to the union $\\mathcal{X} \\cup \\mathcal{Y}$ of the two considered bag-of-words. Thus, we can rewrite the kernel as:\n",
    "\n",
    "$$\n",
    "k(\\mathcal{X},\\mathcal{Y}) = \\sum_{w \\in (\\mathcal{X} \\cup \\mathcal{Y})} 1_{w \\in \\mathcal{X} \\wedge w \\in \\mathcal{Y}}\n",
    "$$\n",
    "\n",
    "*Create* a kernel method that implements this kernel function in a *naive* way. Your naive implementation will then be compared to an optimized one. The naive implementation can be summarized as follows:\n",
    "\n",
    "* Iterate over all possible words $w$ in $\\mathcal{X} \\cup \\mathcal{Y}$.\n",
    "* At each iteration test membership of $w$ to $\\mathcal{X}$ and $\\mathcal{Y}$.\n",
    "* If both memberships are satisfied, increment the kernel score by 1. If not, leave it to its current value.\n",
    "\n",
    "*Remark:* To test the membership of $w$ to $\\mathcal{X}$ and $\\mathcal{Y}$, do *not* use the operator \"`in`\" in Python, as it makes use of special data structures behind the scenes. Instead, iterate over all elements of $\\mathcal{X}$ and $\\mathcal{Y}$ using a `for` loop, and test membership using \"`==`\"."
   ]
  },
  {
   "cell_type": "code",
   "execution_count": 21,
   "metadata": {
    "collapsed": true
   },
   "outputs": [],
   "source": [
    "# def kernel_naive(bow1,bow2):\n",
    "    \n",
    "#     ### Replace by your own code\n",
    "     \n",
    "#     union = list(set(bow1 + bow2))\n",
    "#     k = 0\n",
    "    \n",
    "#     for w in union:\n",
    "        \n",
    "#         for w1 in bow1:\n",
    "#             if w1 == w:\n",
    "#                 for w2 in bow2:\n",
    "#                     if w2 == w:\n",
    "#                         k += 1\n",
    "#                         break\n",
    "#                 break      \n",
    "#     return k\n",
    "#     ###\n",
    "def kernel_naive(bow1,bow2):\n",
    "    Z = Set()\n",
    "    Z.update(bow1)\n",
    "    Z.update(bow2)\n",
    "    kernel_score = 0\n",
    "    for wordZ in Z:\n",
    "        for word1 in bow1:\n",
    "            if wordZ == word1:\n",
    "                for word2 in bow2:\n",
    "                    if wordZ == word2:\n",
    "                        kernel_score += 1\n",
    "                        break\n",
    "                break\n",
    "    return kernel_score"
   ]
  },
  {
   "cell_type": "markdown",
   "metadata": {},
   "source": [
    "The method `analyze_worstcase_performance(text2bow,kernel)` in `utils.py` computes the worst-case performance (i.e. when applied to the two longest texts in the dataset) of a specific kernel. Run the code below to test the performance of your implementation of the naive kernel."
   ]
  },
  {
   "cell_type": "code",
   "execution_count": 23,
   "metadata": {
    "collapsed": false
   },
   "outputs": [
    {
     "name": "stdout",
     "output_type": "stream",
     "text": [
      "kernel score: 868.000 , computation time: 2.719\n"
     ]
    }
   ],
   "source": [
    "import utils\n",
    "utils.analyze_worstcase_performance(text2bow,kernel_naive)"
   ]
  },
  {
   "cell_type": "markdown",
   "metadata": {},
   "source": [
    "This baseline implementation can be greatly accelerated (by a factor more than 100) by sorting the words in the bag-of-words in alphabetic order, and making use of the new sorted structure in the kernel implementation. In the code below, the sorted list associated to `bow1` is called `sbow1`. *Implement* a function `kernel_sorted(sbow1,sbow2)` that takes as input two lists of words (sorted in alphabetic order) and computes the kernel value in a more efficient manner. Like for the naive implementation, do *not* use the Python operator \"`in`\"."
   ]
  },
  {
   "cell_type": "code",
   "execution_count": 24,
   "metadata": {
    "collapsed": false
   },
   "outputs": [],
   "source": [
    "def kernel_sorted(sbow1,sbow2):\n",
    "    \n",
    "    \n",
    "    #for exmaple,comparing \n",
    "    #1345\n",
    "    #1245\n",
    "\n",
    "    sbow1 = sorted(list(set(sbow1)))\n",
    "    sbow2 = sorted(list(set(sbow2)))\n",
    "    \n",
    "   \n",
    "    k = 0\n",
    "    while (len(sbow1) > 0) & (len(sbow2) > 0):\n",
    "        if sbow1[0] == sbow2[0]:\n",
    "            k += 1\n",
    "            sbow1.pop(0)\n",
    "            sbow2.pop(0)\n",
    "        elif sbow1[0] < sbow2[0]:\n",
    "            sbow1.pop(0)\n",
    "        else:\n",
    "            sbow2.pop(0)\n",
    "                     \n",
    "           \n",
    "    return k\n"
   ]
  },
  {
   "cell_type": "markdown",
   "metadata": {},
   "source": [
    "The optimized kernel can be tested for worst case performance by running the code below. Here, we define an additional method `text2sbow(text)` for computing the sorted bag-of-words. Verify that the kernel score remains the same as with the naive implementation. The computation time is expected to drop drastically."
   ]
  },
  {
   "cell_type": "code",
   "execution_count": 25,
   "metadata": {
    "collapsed": false
   },
   "outputs": [
    {
     "name": "stdout",
     "output_type": "stream",
     "text": [
      "kernel score: 868.000 , computation time: 0.013\n"
     ]
    }
   ],
   "source": [
    "def text2sbow(text): return sorted(list(text2bow(text)))\n",
    "\n",
    "import utils\n",
    "utils.analyze_worstcase_performance(text2sbow,kernel_sorted)"
   ]
  },
  {
   "cell_type": "markdown",
   "metadata": {
    "collapsed": false
   },
   "source": [
    "## Classifying Documents with a Kernel SVM (15 P)\n",
    "\n",
    "The kernel function between two text documents can be used to build a SVM-based text classifier. Here, we would like to disriminate between the two classes `comp.graphics` and `sci.med` present in the dataset. The code below reads the whole dataset and stores input (mapped to sorted bag-of-words) and labels in the appropriate data structures."
   ]
  },
  {
   "cell_type": "code",
   "execution_count": 26,
   "metadata": {
    "collapsed": false
   },
   "outputs": [
    {
     "name": "stdout",
     "output_type": "stream",
     "text": [
      "(134, 106)\n"
     ]
    }
   ],
   "source": [
    "import numpy\n",
    "Xtrain = map(text2sbow,open('newsgroup-data/newsgroup-train-data.txt','r'))\n",
    "Xtest  = map(text2sbow,open('newsgroup-data/newsgroup-test-data.txt','r'))\n",
    "Ttrain = numpy.array(map(int,open('newsgroup-data/newsgroup-train-label.txt','r')))\n",
    "Ttest  = numpy.array(map(int,open('newsgroup-data/newsgroup-test-label.txt','r')))\n",
    "print(len(Xtrain),len(Xtest))"
   ]
  },
  {
   "cell_type": "markdown",
   "metadata": {},
   "source": [
    "As a first step, one needs to build the kernel matrices between pairs of training examples and between training and test examples. After evaluating whether building such matrices is computationally feasible given the performance of your optimized bag-of-words kernel implementation, write the function `build_kernels(Xtrain,Xtest)` for constructing these matrices."
   ]
  },
  {
   "cell_type": "code",
   "execution_count": 27,
   "metadata": {
    "collapsed": true
   },
   "outputs": [],
   "source": [
    "def build_kernels(Xtrain,Xtest):\n",
    "    Ktrain = numpy.zeros((len(Xtrain), len(Xtrain)))\n",
    "    Ktest = numpy.zeros((len(Xtest), len(Xtrain)))\n",
    "    #Ktrain = numpy.array(len(Xtrain), len(Xtrain))\n",
    "    #Ktest = numpy.array(len(Xtrain), len(Xtest))\n",
    "    i1 = 0    \n",
    "    for bow1 in Xtrain:\n",
    "        i2 = 0\n",
    "        for bow2 in Xtrain:\n",
    "            Ktrain[i1][i2] = kernel_sorted(bow1, bow2)\n",
    "            i2+=1\n",
    "        i1+=1\n",
    "    i3 = 0\n",
    "    for bow3 in Xtest:\n",
    "        i4 = 0\n",
    "        for bow4 in Xtrain:\n",
    "            Ktest[i3][i4] = kernel_sorted(bow3, bow4)\n",
    "            i4+=1\n",
    "        i3+=1\n",
    "        \n",
    "    assert(Ktrain.shape==(len(Xtrain),len(Xtrain)) and Ktest.shape==(len(Xtest),len(Xtrain)))\n",
    "    return Ktrain,Ktest"
   ]
  },
  {
   "cell_type": "markdown",
   "metadata": {},
   "source": [
    "These kernel matrices along with the vector of training labels `Ttrain` can be used to train an SVM in the same way as in the previous exercise on genes sequences classification. Write a function that trains an SVM (using scikit-learn with default parameters) and computes the predictions on the training and test data."
   ]
  },
  {
   "cell_type": "code",
   "execution_count": 28,
   "metadata": {
    "collapsed": false
   },
   "outputs": [],
   "source": [
    "def get_svm_prediction(Ktrain,Ttrain,Ktest):\n",
    "    \n",
    "    ### Replace by your own code\n",
    "    Ktrain, Ktest = build_kernels(Xtrain, Xtest)\n",
    "    mysvm = svm.SVC(kernel='precomputed').fit(Ktrain,Ttrain)\n",
    "    Ytrain = mysvm.predict(Ktrain)\n",
    "    Ytest = mysvm.predict(Ktest)\n",
    "    ###\n",
    "    \n",
    "    assert(Ytrain.shape==Ttrain.shape and Ytest.shape==Ttest.shape)\n",
    "    return Ytrain,Ytest"
   ]
  },
  {
   "cell_type": "markdown",
   "metadata": {},
   "source": [
    "Finally, the functions that you have implemented for classifying the texts can be tested by measuring the training and test accuracy."
   ]
  },
  {
   "cell_type": "code",
   "execution_count": null,
   "metadata": {
    "collapsed": false
   },
   "outputs": [],
   "source": [
    "Ktrain,Ktest = build_kernels(Xtrain,Xtest)\n",
    "Ytrain,Ytest = get_svm_prediction(Ktrain,Ttrain,Ktest)\n",
    "\n",
    "print('training accuracy: %.3f   test accuracy: %.3f'% \\\n",
    "      ((Ytrain==Ttrain).mean(),(Ytest==Ttest).mean()))"
   ]
  }
 ],
 "metadata": {
  "anaconda-cloud": {},
  "kernelspec": {
   "display_name": "Python [default]",
   "language": "python",
   "name": "python2"
  },
  "language_info": {
   "codemirror_mode": {
    "name": "ipython",
    "version": 2
   },
   "file_extension": ".py",
   "mimetype": "text/x-python",
   "name": "python",
   "nbconvert_exporter": "python",
   "pygments_lexer": "ipython2",
   "version": "2.7.12"
  }
 },
 "nbformat": 4,
 "nbformat_minor": 0
}
