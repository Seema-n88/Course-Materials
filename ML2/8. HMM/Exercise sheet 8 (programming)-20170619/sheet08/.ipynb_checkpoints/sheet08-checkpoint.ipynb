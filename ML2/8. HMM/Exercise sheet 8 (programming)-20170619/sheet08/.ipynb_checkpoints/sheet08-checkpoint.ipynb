{
 "cells": [
  {
   "cell_type": "markdown",
   "metadata": {},
   "source": [
    "# Programming Hidden Markov Models (60 P)\n",
    "\n",
    "In this exercise, you will experiment with hidden Markov models, in particular, applying them to modeling character sequences, and analyzing the learned solution. As a starting point, you are provided in the file `hmm.py` with a basic implementation of an HMM and of the Baum-Welch training algorithm. The names of variables used in the code and the references to equations are taken from the HMM paper by Rabiner et al. downloable from ISIS. In addition to the variables described in this paper, we use two additional variables: $Z$ for the emission probabilities of observations $O$, and $\\psi$ (i.e. psi) for collecting the statistics of Equation (40c).\n"
   ]
  },
  {
   "cell_type": "markdown",
   "metadata": {},
   "source": [
    "##Question 1: Analysis of a small HMM (30 P)\n",
    "\n",
    "We first look at a toy example of an HMM trained on a binary sequence. The training procedure below consists of 100 iterations of the Baum-Welch procedure. It runs the HMM learning algorithm for some toy binary data and prints the parameters learned by the HMM (i.e. matrices $A$ and $B$).\n",
    "\n",
    "###Question 1a: Qualitative Analysis (15 P)\n",
    "\n",
    "* *Run* the code several times to check that the behavior is consistent.\n",
    "* *Describe* qualitatively the solution $A,B$ learned by the model.\n",
    "* *Explain* how the solution $\\lambda = (A,B)$ relates to the sequence of observations $O$ that has been modeled.\n"
   ]
  },
  {
   "cell_type": "code",
   "execution_count": 1,
   "metadata": {
    "collapsed": false
   },
   "outputs": [
    {
     "ename": "NameError",
     "evalue": "name 'printt' is not defined",
     "output_type": "error",
     "traceback": [
      "\u001b[0;31m---------------------------------------------------------------------------\u001b[0m",
      "\u001b[0;31mNameError\u001b[0m                                 Traceback (most recent call last)",
      "\u001b[0;32m<ipython-input-1-92481d8487a2>\u001b[0m in \u001b[0;36m<module>\u001b[0;34m()\u001b[0m\n\u001b[1;32m     17\u001b[0m     \u001b[0mhmmtoy\u001b[0m\u001b[0;34m.\u001b[0m\u001b[0mlearn\u001b[0m\u001b[0;34m(\u001b[0m\u001b[0;34m)\u001b[0m\u001b[0;34m\u001b[0m\u001b[0m\n\u001b[1;32m     18\u001b[0m \u001b[0;34m\u001b[0m\u001b[0m\n\u001b[0;32m---> 19\u001b[0;31m \u001b[0mprintt\u001b[0m\u001b[0;34m(\u001b[0m\u001b[0;34m'A'\u001b[0m\u001b[0;34m)\u001b[0m\u001b[0;34m\u001b[0m\u001b[0m\n\u001b[0m\u001b[1;32m     20\u001b[0m \u001b[0;32mprint\u001b[0m\u001b[0;34m(\u001b[0m\u001b[0;34m\"\\n\"\u001b[0m\u001b[0;34m.\u001b[0m\u001b[0mjoin\u001b[0m\u001b[0;34m(\u001b[0m\u001b[0;34m[\u001b[0m\u001b[0;34m\" \"\u001b[0m\u001b[0;34m.\u001b[0m\u001b[0mjoin\u001b[0m\u001b[0;34m(\u001b[0m\u001b[0;34m[\u001b[0m\u001b[0;34m'%.3f'\u001b[0m\u001b[0;34m%\u001b[0m\u001b[0ma\u001b[0m \u001b[0;32mfor\u001b[0m \u001b[0ma\u001b[0m \u001b[0;32min\u001b[0m \u001b[0maa\u001b[0m\u001b[0;34m]\u001b[0m\u001b[0;34m)\u001b[0m \u001b[0;32mfor\u001b[0m \u001b[0maa\u001b[0m \u001b[0;32min\u001b[0m \u001b[0mhmmtoy\u001b[0m\u001b[0;34m.\u001b[0m\u001b[0mA\u001b[0m\u001b[0;34m]\u001b[0m\u001b[0;34m)\u001b[0m\u001b[0;34m)\u001b[0m\u001b[0;34m\u001b[0m\u001b[0m\n\u001b[1;32m     21\u001b[0m \u001b[0;32mprint\u001b[0m\u001b[0;34m(\u001b[0m\u001b[0;34m' '\u001b[0m\u001b[0;34m)\u001b[0m\u001b[0;34m\u001b[0m\u001b[0m\n",
      "\u001b[0;31mNameError\u001b[0m: name 'printt' is not defined"
     ]
    }
   ],
   "source": [
    "import numpy,hmm\n",
    "\n",
    "O = numpy.array([1,0,1,0,1,1,0,0,1,0,0,0,1,1,1,0,1,0,0,0,1,1,0,1,1,0,0,1,1,\n",
    "                 0,0,0,1,0,0,0,1,1,0,0,1,0,0,1,1,0,0,0,1,0,1,0,1,0,0,0,1,0,\n",
    "                 0,0,1,0,1,0,1,0,0,0,1,1,1,0,1,0,0,0,1,0,0,0,1,0,1,0,1,0,0,\n",
    "                 0,1,1,1,0,1,0,0,0,1,0,0,0,1,0,0,0,1,0,0,0,1,1,0,0,1,0,1,1,\n",
    "                 1,0,0,0,1,1,0,0,1,0,1,1,1,0,0,1,1,0,0,0,1,1,0,0,1,1,0,0,1,\n",
    "                 0,0,0,1,0,0,0,1,0,0,0,1,0,0,0,1,0,1,0,1,0,0,0,1,0,0,0,1,0,\n",
    "                 0,0,1,0,0,0,1,1,0,0,1,1,0,0,1,1,0,0,1,0,0,0,1,1,0,0])\n",
    "\n",
    "hmmtoy = hmm.HMM(4,2)\n",
    "\n",
    "for k in range(100):\n",
    "    hmmtoy.loaddata(O)\n",
    "    hmmtoy.forward()\n",
    "    hmmtoy.backward()\n",
    "    hmmtoy.learn()\n",
    "\n",
    "print('A')\n",
    "print(\"\\n\".join([\" \".join(['%.3f'%a for a in aa]) for aa in hmmtoy.A]))\n",
    "print(' ')\n",
    "print('B')\n",
    "print(\"\\n\".join([\" \".join(['%.3f'%b for b in bb]) for bb in hmmtoy.B]))\n",
    "print(' ')\n",
    "print('Pi')\n",
    "print(\"\\n\".join(['%.3f'%b for b in hmmtoy.Pi]))"
   ]
  },
  {
   "cell_type": "markdown",
   "metadata": {},
   "source": [
    "###Question 1b: Finding the best number $N$ of hidden states (15 P)\n",
    "\n",
    "For the same sequence of observations as in Question 1a, we would like to determine automatically what is a good number of hidden states $N = \\mathrm{card}(S)$ for the model.\n",
    "\n",
    "* *Split* the sequence of observations into a training and test set (you can assume stationarity).\n",
    "* *Train* the model on the training set for several iteration (e.g. 100 iterations) and for multiple parameter $N$.\n",
    "* *Show* for each choice of parameter $N$ the log-probability $\\log p(O | \\lambda)$ for the test set. (If the results are unstable, perform several trials of the same experiment for each parameter $N$.)\n",
    "* *Explain* in the light of this experiment what is the best parameter $N$."
   ]
  },
  {
   "cell_type": "code",
   "execution_count": 34,
   "metadata": {
    "collapsed": false
   },
   "outputs": [
    {
     "name": "stdout",
     "output_type": "stream",
     "text": [
      "N = 2\n",
      "trail 0 logptrain= -68.014 logptest= -49.654\n",
      "trail 1 logptrain= -68.014 logptest= -49.654\n",
      "trail 2 logptrain= -68.014 logptest= -49.654\n",
      "trail 3 logptrain= -68.014 logptest= -49.654\n",
      "N = 4\n",
      "trail 0 logptrain= -45.476 logptest= -28.473\n",
      "trail 1 logptrain= -45.476 logptest= -28.473\n",
      "trail 2 logptrain= -45.476 logptest= -28.473\n",
      "trail 3 logptrain= -45.476 logptest= -28.473\n",
      "N = 8\n",
      "trail 0 logptrain= -43.768 logptest= -33.710\n",
      "trail 1 logptrain= -43.019 logptest= -60.508\n",
      "trail 2 logptrain= -43.019 logptest= -83.710\n",
      "trail 3 logptrain= -43.019 logptest= -106.909\n",
      "N = 16\n",
      "trail 0 logptrain= -38.843 logptest= -78.829\n",
      "trail 1 logptrain= -36.860 logptest= -298.142\n",
      "trail 2 logptrain= -36.860 logptest= -452.500\n",
      "trail 3 logptrain= -36.860 logptest= -600.153\n"
     ]
    }
   ],
   "source": [
    "#import solutions\n",
    "#solutions.question1b(O,hmm.HMM)\n",
    "\n",
    "\n",
    "from sklearn.cross_validation import train_test_split\n",
    "train = O[:120]\n",
    "test = O[120:]\n",
    "hmmtoy = hmm.HMM(2,2)\n",
    "\n",
    "for N in (2,4,8,16):\n",
    "    print \"N = %d\" %N\n",
    "    hmmtoy = hmm.HMM(N,2)\n",
    "    for r in range(4):\n",
    "        for k in range(100):\n",
    "            hmmtoy.loaddata(train)\n",
    "            hmmtoy.forward()\n",
    "            hmmtoy.backward()\n",
    "            hmmtoy.learn()\n",
    "        hmmtoy_train = numpy.log(hmmtoy.pobs)\n",
    "        hmmtoy.loaddata(test)\n",
    "        hmmtoy.forward()\n",
    "        print (\"trail %d logptrain= %.3f logptest= %.3f\" %(r, hmmtoy_train, numpy.log(hmmtoy.pobs)))\n",
    "\n"
   ]
  },
  {
   "cell_type": "code",
   "execution_count": null,
   "metadata": {
    "collapsed": true
   },
   "outputs": [],
   "source": []
  },
  {
   "cell_type": "markdown",
   "metadata": {},
   "source": [
    "## Question 2: Text modeling and generation (30 P)\n",
    "\n",
    "We would like to train an HMM on character sequences taken from English text. We use the 20 newsgroups dataset that is accessible via scikits-learn http://scikit-learn.org/stable/datasets/twenty_newsgroups.html. (For this, you need to install scikits-learn if not done already.) Documentation is available on the website. The code below allows you to (1) read the dataset, (2) sample HMM-readable sequences from it, and (3) convert them back into string of characters."
   ]
  },
  {
   "cell_type": "code",
   "execution_count": 35,
   "metadata": {
    "collapsed": false
   },
   "outputs": [
    {
     "name": "stderr",
     "output_type": "stream",
     "text": [
      "No handlers could be found for logger \"sklearn.datasets.twenty_newsgroups\"\n"
     ]
    }
   ],
   "source": [
    "from sklearn.datasets import fetch_20newsgroups\n",
    "\n",
    "# Download a subset of the newsgroup dataset\n",
    "newsgroups_train = fetch_20newsgroups(subset='train',categories=['sci.med'])\n",
    "newsgroups_test  = fetch_20newsgroups(subset='test' ,categories=['sci.med'])\n",
    "\n",
    "# Sample a sequence of T characters from the dataset\n",
    "# that the HMM can read (0=whitespace 1-26=A-Z).\n",
    "#\n",
    "# Example of execution:\n",
    "# O = sample(newsgroups_train.data)\n",
    "# O = sample(newsgroups_test.data)\n",
    "#\n",
    "def sample(data,T=50):\n",
    "    i = numpy.random.randint(len(data))\n",
    "    O = data[i].upper().replace('\\n',' ')\n",
    "    O = numpy.array([ord(s) for s in O])\n",
    "    O = numpy.maximum(O[(O>=65)*(O<90)+(O==32)]-64,0)\n",
    "    j = numpy.random.randint(len(O)-T)\n",
    "    print O\n",
    "    return O[j:j+T]\n",
    "\n",
    "# Takes a sequence of integers between 0 and 26 (HMM representation)\n",
    "# and converts it back to a string of characters\n",
    "def tochar(O):\n",
    "    return \"\".join([\"%s\"%chr(o) for o in (O+32*(O==0)+64*(O>0.5))])"
   ]
  },
  {
   "cell_type": "markdown",
   "metadata": {},
   "source": [
    "### Question 2a (15 P)\n",
    "\n",
    "In order to train the HMM, we use a stochastic optimization algorithm where the Baum-Welch procedure is applied to randomly drawn sequences of $T=50$ characters at each iteration. The HMM has 27 visible states (A-Z + whitespace) and 200 hidden states. Because the Baum-Welch procedure optimizes for the sequence taken as input, and no necessarily the full text, it can take fairly large steps in the parameter space, which is inadequate for stochastic optimization. We consider instead for the parameters $\\lambda = (A,B,\\Pi)$ the update rule $\\lambda^{new} = (1-\\gamma) \\lambda + \\gamma \\bar \\lambda$, where $\\bar \\lambda$ contains the candidate parameters obtained from Equations 40a-c. A reasonable value for $\\gamma$ is $0.1$.\n",
    "\n",
    "* *Create* a new class `HMMChar` that extends the class `HMM` provided in `hmm.py`.\n",
    "* *Implement* for this class a new method `HMMchar.learn(self)` that overrides the original methods, and implements the proposed update rule instead.\n",
    "* *Implement* the stochastic training procedure and run it.\n",
    "* *Monitor* $\\log p(O|\\lambda)$ on the test set at multiple iterations for sequences of same length as the one used for training. (Hint: for less noisy log-probability estimates, use several sequences or a moving average.)"
   ]
  },
  {
   "cell_type": "code",
   "execution_count": 40,
   "metadata": {
    "collapsed": false
   },
   "outputs": [],
   "source": [
    "import hmm\n",
    "lr = 0.1\n",
    "class HMM:\n",
    "    def learn(self):\n",
    "        super(learn,self)\n",
    "        # Compute gamma\n",
    "        self.gamma = self.alpha*self.beta / self.pobs\n",
    "        \n",
    "        # Compute xi and psi\n",
    "        self.xi = self.alpha[:-1,:,na]*self.A[na,:,:]*self.beta[1:,na,:]*self.Z[1:,na,:] / self.pobs\n",
    "        self.psi = self.gamma[:,:,na]*(self.O[:,na,na] == numpy.arange(self.B.shape[1])[na,na,:])\n",
    "        \n",
    "        # Update HMM parameters\n",
    "        self.A_cur  = (1 - lr) * (self.xi.sum(axis=0)  / self.gamma[:-1].sum(axis=0)[:,na])\n",
    "        self.B_cur  = (1 - lr) * (self.psi.sum(axis=0) / self.gamma.sum(axis=0)[:,na])\n",
    "        self.Pi_cur = (1 - lr) * (self.gamma[0])\n",
    "        \n",
    "        self.\n",
    "#import solutions\n",
    "\n",
    "#hmmchar = solutions.HMMChar(200,27)\n",
    "trainsample = lambda: sample(newsgroups_train.data)\n",
    "testsample  = lambda: sample(newsgroups_test.data)\n",
    "\n",
    "#solutions.question2a(hmmchar,trainsample,testsample)"
   ]
  },
  {
   "cell_type": "markdown",
   "metadata": {},
   "source": [
    "### Question 2b (15 P)\n",
    "\n",
    "In order to visualize what the HMM has learned, we would like to generate random text from it. A well-trained HMM should generate character sequences that have some similarity with the text it has been trained on.\n",
    "\n",
    "* *Implement* a method `generate(self,T)` of the class `HMMChar` that takes as argument the length of the character sequence that has to be generated.\n",
    "* *Test* your method by generating a sequence of 250 characters and comparing it with original text and a purely random sequence.\n",
    "* *Discuss* how the generated sequences compare with written English and what are the advantages and limitations of the HMM for this problem."
   ]
  },
  {
   "cell_type": "code",
   "execution_count": null,
   "metadata": {
    "collapsed": false
   },
   "outputs": [],
   "source": [
    "print(\"original:\\n\"+tochar(sample(newsgroups_test.data,T=250)))\n",
    "print(\"\\nlearned:\\n\"+tochar(hmmchar.generate(250)))\n",
    "print(\"\\nrandom:\\n\" +tochar(solutions.HMMChar(200,27).generate(250)))"
   ]
  }
 ],
 "metadata": {
  "anaconda-cloud": {},
  "kernelspec": {
   "display_name": "Python [default]",
   "language": "python",
   "name": "python2"
  },
  "language_info": {
   "codemirror_mode": {
    "name": "ipython",
    "version": 2
   },
   "file_extension": ".py",
   "mimetype": "text/x-python",
   "name": "python",
   "nbconvert_exporter": "python",
   "pygments_lexer": "ipython2",
   "version": "2.7.12"
  }
 },
 "nbformat": 4,
 "nbformat_minor": 0
}
