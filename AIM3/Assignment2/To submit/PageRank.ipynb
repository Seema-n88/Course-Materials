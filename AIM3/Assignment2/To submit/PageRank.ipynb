{
 "cells": [
  {
   "cell_type": "code",
   "execution_count": 1,
   "metadata": {
    "collapsed": false
   },
   "outputs": [
    {
     "name": "stdout",
     "output_type": "stream",
     "text": [
      "This non-commercial license of GraphLab Create for academic use is assigned to seema.n.swamy@campus.tu-berlin.de and will expire on June 15, 2018.\n"
     ]
    },
    {
     "name": "stderr",
     "output_type": "stream",
     "text": [
      "[INFO] graphlab.cython.cy_server: GraphLab Create v2.1 started. Logging: /tmp/graphlab_server_1498573247.log\n"
     ]
    },
    {
     "data": {
      "text/html": [
       "<pre>Downloading https://snap.stanford.edu/data/web-Stanford.txt.gz to /var/tmp/graphlab-seema/47589/e4c273b3-f87b-428f-9c31-e4c161b67cc7.gz</pre>"
      ],
      "text/plain": [
       "Downloading https://snap.stanford.edu/data/web-Stanford.txt.gz to /var/tmp/graphlab-seema/47589/e4c273b3-f87b-428f-9c31-e4c161b67cc7.gz"
      ]
     },
     "metadata": {},
     "output_type": "display_data"
    },
    {
     "data": {
      "text/html": [
       "<pre>Finished parsing file https://snap.stanford.edu/data/web-Stanford.txt.gz</pre>"
      ],
      "text/plain": [
       "Finished parsing file https://snap.stanford.edu/data/web-Stanford.txt.gz"
      ]
     },
     "metadata": {},
     "output_type": "display_data"
    },
    {
     "data": {
      "text/html": [
       "<pre>Parsing completed. Parsed 2312497 lines in 1.68668 secs.</pre>"
      ],
      "text/plain": [
       "Parsing completed. Parsed 2312497 lines in 1.68668 secs."
      ]
     },
     "metadata": {},
     "output_type": "display_data"
    },
    {
     "data": {
      "text/html": [
       "<pre>Counting out degree</pre>"
      ],
      "text/plain": [
       "Counting out degree"
      ]
     },
     "metadata": {},
     "output_type": "display_data"
    },
    {
     "data": {
      "text/html": [
       "<pre>Done counting out degree</pre>"
      ],
      "text/plain": [
       "Done counting out degree"
      ]
     },
     "metadata": {},
     "output_type": "display_data"
    },
    {
     "data": {
      "text/html": [
       "<pre>+-----------+-----------------------+</pre>"
      ],
      "text/plain": [
       "+-----------+-----------------------+"
      ]
     },
     "metadata": {},
     "output_type": "display_data"
    },
    {
     "data": {
      "text/html": [
       "<pre>| Iteration | L1 change in pagerank |</pre>"
      ],
      "text/plain": [
       "| Iteration | L1 change in pagerank |"
      ]
     },
     "metadata": {},
     "output_type": "display_data"
    },
    {
     "data": {
      "text/html": [
       "<pre>+-----------+-----------------------+</pre>"
      ],
      "text/plain": [
       "+-----------+-----------------------+"
      ]
     },
     "metadata": {},
     "output_type": "display_data"
    },
    {
     "data": {
      "text/html": [
       "<pre>| 1         | 270083                |</pre>"
      ],
      "text/plain": [
       "| 1         | 270083                |"
      ]
     },
     "metadata": {},
     "output_type": "display_data"
    },
    {
     "data": {
      "text/html": [
       "<pre>| 2         | 138841                |</pre>"
      ],
      "text/plain": [
       "| 2         | 138841                |"
      ]
     },
     "metadata": {},
     "output_type": "display_data"
    },
    {
     "data": {
      "text/html": [
       "<pre>| 3         | 68707.1               |</pre>"
      ],
      "text/plain": [
       "| 3         | 68707.1               |"
      ]
     },
     "metadata": {},
     "output_type": "display_data"
    },
    {
     "data": {
      "text/html": [
       "<pre>| 4         | 35321.3               |</pre>"
      ],
      "text/plain": [
       "| 4         | 35321.3               |"
      ]
     },
     "metadata": {},
     "output_type": "display_data"
    },
    {
     "data": {
      "text/html": [
       "<pre>| 5         | 20470                 |</pre>"
      ],
      "text/plain": [
       "| 5         | 20470                 |"
      ]
     },
     "metadata": {},
     "output_type": "display_data"
    },
    {
     "data": {
      "text/html": [
       "<pre>| 6         | 13233.7               |</pre>"
      ],
      "text/plain": [
       "| 6         | 13233.7               |"
      ]
     },
     "metadata": {},
     "output_type": "display_data"
    },
    {
     "data": {
      "text/html": [
       "<pre>| 7         | 9219.07               |</pre>"
      ],
      "text/plain": [
       "| 7         | 9219.07               |"
      ]
     },
     "metadata": {},
     "output_type": "display_data"
    },
    {
     "data": {
      "text/html": [
       "<pre>| 8         | 6645.84               |</pre>"
      ],
      "text/plain": [
       "| 8         | 6645.84               |"
      ]
     },
     "metadata": {},
     "output_type": "display_data"
    },
    {
     "data": {
      "text/html": [
       "<pre>| 9         | 4949.73               |</pre>"
      ],
      "text/plain": [
       "| 9         | 4949.73               |"
      ]
     },
     "metadata": {},
     "output_type": "display_data"
    },
    {
     "data": {
      "text/html": [
       "<pre>| 10        | 3821.13               |</pre>"
      ],
      "text/plain": [
       "| 10        | 3821.13               |"
      ]
     },
     "metadata": {},
     "output_type": "display_data"
    },
    {
     "data": {
      "text/html": [
       "<pre>| 11        | 2995.06               |</pre>"
      ],
      "text/plain": [
       "| 11        | 2995.06               |"
      ]
     },
     "metadata": {},
     "output_type": "display_data"
    },
    {
     "data": {
      "text/html": [
       "<pre>| 12        | 2374.03               |</pre>"
      ],
      "text/plain": [
       "| 12        | 2374.03               |"
      ]
     },
     "metadata": {},
     "output_type": "display_data"
    },
    {
     "data": {
      "text/html": [
       "<pre>| 13        | 1901.1                |</pre>"
      ],
      "text/plain": [
       "| 13        | 1901.1                |"
      ]
     },
     "metadata": {},
     "output_type": "display_data"
    },
    {
     "data": {
      "text/html": [
       "<pre>| 14        | 1536.88               |</pre>"
      ],
      "text/plain": [
       "| 14        | 1536.88               |"
      ]
     },
     "metadata": {},
     "output_type": "display_data"
    },
    {
     "data": {
      "text/html": [
       "<pre>| 15        | 1247.56               |</pre>"
      ],
      "text/plain": [
       "| 15        | 1247.56               |"
      ]
     },
     "metadata": {},
     "output_type": "display_data"
    },
    {
     "data": {
      "text/html": [
       "<pre>| 16        | 1018.32               |</pre>"
      ],
      "text/plain": [
       "| 16        | 1018.32               |"
      ]
     },
     "metadata": {},
     "output_type": "display_data"
    },
    {
     "data": {
      "text/html": [
       "<pre>| 17        | 833.603               |</pre>"
      ],
      "text/plain": [
       "| 17        | 833.603               |"
      ]
     },
     "metadata": {},
     "output_type": "display_data"
    },
    {
     "data": {
      "text/html": [
       "<pre>| 18        | 685.343               |</pre>"
      ],
      "text/plain": [
       "| 18        | 685.343               |"
      ]
     },
     "metadata": {},
     "output_type": "display_data"
    },
    {
     "data": {
      "text/html": [
       "<pre>| 19        | 564.507               |</pre>"
      ],
      "text/plain": [
       "| 19        | 564.507               |"
      ]
     },
     "metadata": {},
     "output_type": "display_data"
    },
    {
     "data": {
      "text/html": [
       "<pre>| 20        | 466.365               |</pre>"
      ],
      "text/plain": [
       "| 20        | 466.365               |"
      ]
     },
     "metadata": {},
     "output_type": "display_data"
    },
    {
     "data": {
      "text/html": [
       "<pre>+-----------+-----------------------+</pre>"
      ],
      "text/plain": [
       "+-----------+-----------------------+"
      ]
     },
     "metadata": {},
     "output_type": "display_data"
    }
   ],
   "source": [
    "import graphlab\n",
    "g = graphlab.load_graph('https://snap.stanford.edu/data/web-Stanford.txt.gz', format='snap')\n",
    "pr = graphlab.pagerank.create(g)"
   ]
  },
  {
   "cell_type": "code",
   "execution_count": 3,
   "metadata": {
    "collapsed": false
   },
   "outputs": [],
   "source": [
    "pr_out = pr['pagerank']\n"
   ]
  },
  {
   "cell_type": "code",
   "execution_count": 4,
   "metadata": {
    "collapsed": false
   },
   "outputs": [],
   "source": [
    "pr_out.export_csv(\"pagerank_gl.csv\")\n"
   ]
  },
  {
   "cell_type": "code",
   "execution_count": 5,
   "metadata": {
    "collapsed": false
   },
   "outputs": [
    {
     "name": "stdout",
     "output_type": "stream",
     "text": [
      "Canvas is accessible via web browser at the URL: http://localhost:56652/index.html\n",
      "Opening Canvas in default web browser.\n"
     ]
    }
   ],
   "source": [
    "pr_out.show(view='Numeric')"
   ]
  }
 ],
 "metadata": {
  "kernelspec": {
   "display_name": "Python 2",
   "language": "python",
   "name": "python2"
  },
  "language_info": {
   "codemirror_mode": {
    "name": "ipython",
    "version": 2
   },
   "file_extension": ".py",
   "mimetype": "text/x-python",
   "name": "python",
   "nbconvert_exporter": "python",
   "pygments_lexer": "ipython2",
   "version": "2.7.11"
  }
 },
 "nbformat": 4,
 "nbformat_minor": 0
}
