{
 "cells": [
  {
   "cell_type": "code",
   "execution_count": 2,
   "metadata": {
    "collapsed": true
   },
   "outputs": [],
   "source": [
    "countries = {\n",
    "    'argentina': 'south america',\n",
    "    'switzerland': 'europe' ,\n",
    "    'france': 'europe',\n",
    "    'greece': 'europe',\n",
    "    'netherlands': 'europe',\n",
    "    'costa rica': 'north america',\n",
    "    'algeria': 'africa',\n",
    "    'belgium': 'europe',\n",
    "    'brazil': 'south america',\n",
    "    'colombia': 'south america',\n",
    "    'nigeria': 'africa',\n",
    "    'usa': 'north america',\n",
    "    'germany': 'europe',\n",
    "    'chile': 'south america',\n",
    "    'mexico': 'north america',\n",
    "    'uruguay': 'south america'}\n",
    "\n",
    "results = [\n",
    "    ('chile', 'brazil', 'belo horizonte'),\n",
    "    ('uruguay', 'colombia', 'rio de janeiro'),\n",
    "    ('nigeria', 'france', 'brasilia'),\n",
    "    ('algeria', 'germany', 'porto alegre'),\n",
    "    ('mexico', 'netherlands', 'fortaleza'),\n",
    "    ('greece', 'costa rica', 'recife'),\n",
    "    ('switzerland', 'argentina', 'sao paulo'),\n",
    "    ('usa', 'belgium', 'salvador'),\n",
    "    ('colombia', 'brazil', 'fortaleza'),\n",
    "    ('france', 'germany', 'rio de janeiro'),\n",
    "    ('costa rica', 'netherlands', 'salvador'),\n",
    "    ('belgium', 'argentina', 'brasilia'),\n",
    "    ('brazil', 'germany', 'belo horizonte'),\n",
    "    ('netherlands', 'argentina', 'sao paulo'),\n",
    "    ('argentina', 'germany', 'rio de janeiro')]"
   ]
  },
  {
   "cell_type": "code",
   "execution_count": 3,
   "metadata": {
    "collapsed": false
   },
   "outputs": [
    {
     "name": "stderr",
     "output_type": "stream",
     "text": [
      "[INFO] graphlab.cython.cy_server: GraphLab Create v2.1 started. Logging: /tmp/graphlab_server_1497535747.log\n"
     ]
    },
    {
     "name": "stdout",
     "output_type": "stream",
     "text": [
      "This non-commercial license of GraphLab Create for academic use is assigned to seema.n.swamy@campus.tu-berlin.de and will expire on June 15, 2018.\n",
      "{'num_edges': 15, 'num_vertices': 16}\n",
      "Canvas is accessible via web browser at the URL: http://localhost:62280/index.html\n",
      "Opening Canvas in default web browser.\n"
     ]
    }
   ],
   "source": [
    "import graphlab\n",
    "verts = graphlab.SFrame({'name': countries.keys(),\n",
    "                         'continent': countries.values()})\n",
    "\n",
    "losers, winners, locations = zip(*results)\n",
    "edges = graphlab.SFrame({'loser': list(losers),\n",
    "                         'winner': list(winners),\n",
    "                         'location': list(locations)})\n",
    "\n",
    "sg = graphlab.SGraph()\n",
    "sg = sg.add_vertices(verts, vid_field='name')\n",
    "sg = sg.add_edges(edges, src_field='loser', dst_field='winner')\n",
    "print sg.summary()\n",
    "sg.show(vlabel='id', arrows=True, ewidth=1.5)"
   ]
  },
  {
   "cell_type": "code",
   "execution_count": 4,
   "metadata": {
    "collapsed": false
   },
   "outputs": [
    {
     "data": {
      "text/html": [
       "<pre>+-----------------------------+</pre>"
      ],
      "text/plain": [
       "+-----------------------------+"
      ]
     },
     "metadata": {},
     "output_type": "display_data"
    },
    {
     "data": {
      "text/html": [
       "<pre>| Number of components merged |</pre>"
      ],
      "text/plain": [
       "| Number of components merged |"
      ]
     },
     "metadata": {},
     "output_type": "display_data"
    },
    {
     "data": {
      "text/html": [
       "<pre>+-----------------------------+</pre>"
      ],
      "text/plain": [
       "+-----------------------------+"
      ]
     },
     "metadata": {},
     "output_type": "display_data"
    },
    {
     "data": {
      "text/html": [
       "<pre>| 15                          |</pre>"
      ],
      "text/plain": [
       "| 15                          |"
      ]
     },
     "metadata": {},
     "output_type": "display_data"
    },
    {
     "data": {
      "text/html": [
       "<pre>| 0                           |</pre>"
      ],
      "text/plain": [
       "| 0                           |"
      ]
     },
     "metadata": {},
     "output_type": "display_data"
    },
    {
     "data": {
      "text/html": [
       "<pre>+-----------------------------+</pre>"
      ],
      "text/plain": [
       "+-----------------------------+"
      ]
     },
     "metadata": {},
     "output_type": "display_data"
    },
    {
     "name": "stdout",
     "output_type": "stream",
     "text": [
      "number of components: 1\n"
     ]
    }
   ],
   "source": [
    "cc = graphlab.connected_components.create(sg)\n",
    "print \"number of components:\", cc['component_size'].num_rows()"
   ]
  },
  {
   "cell_type": "code",
   "execution_count": null,
   "metadata": {
    "collapsed": true
   },
   "outputs": [],
   "source": []
  }
 ],
 "metadata": {
  "kernelspec": {
   "display_name": "Python 2",
   "language": "python",
   "name": "python2"
  },
  "language_info": {
   "codemirror_mode": {
    "name": "ipython",
    "version": 2
   },
   "file_extension": ".py",
   "mimetype": "text/x-python",
   "name": "python",
   "nbconvert_exporter": "python",
   "pygments_lexer": "ipython2",
   "version": "2.7.11"
  }
 },
 "nbformat": 4,
 "nbformat_minor": 0
}
