{
 "cells": [
  {
   "cell_type": "code",
   "execution_count": 1,
   "metadata": {
    "collapsed": false
   },
   "outputs": [],
   "source": [
    "# Import libraries\n",
    "import py_entitymatching as em\n",
    "import pandas as pd\n",
    "import os, sys\n"
   ]
  },
  {
   "cell_type": "code",
   "execution_count": 2,
   "metadata": {
    "collapsed": false
   },
   "outputs": [
    {
     "ename": "SyntaxError",
     "evalue": "invalid syntax (<ipython-input-2-0dcce05fc7d2>, line 5)",
     "output_type": "error",
     "traceback": [
      "\u001b[0;36m  File \u001b[0;32m\"<ipython-input-2-0dcce05fc7d2>\"\u001b[0;36m, line \u001b[0;32m5\u001b[0m\n\u001b[0;31m    masterCSV = em.read_csv_metadata(path, ,low_memory=False, key='RecID')\u001b[0m\n\u001b[0m                                           ^\u001b[0m\n\u001b[0;31mSyntaxError\u001b[0m\u001b[0;31m:\u001b[0m invalid syntax\n"
     ]
    }
   ],
   "source": [
    "#path to dataset\n",
    "path = \"inputDB.csv\"\n",
    "\n",
    "# Read the CSV file and set 'RecID' as the key attribute\n",
    "masterCSV = em.read_csv_metadata(path, ,low_memory=False, key='RecID')\n",
    "\n",
    "firstPart, secondPart = em.down_sample(masterCSV, masterCSV, size=200, y_param=1)\n",
    "\n",
    "#length = len(masterCSV)\n",
    "#splitIdx = len(masterCSV)/2\n",
    "#firstPart = masterCSV[0:splitIdx]\n",
    "#em.set_key(firstPart, \"RecID\")\n",
    "#secondPart = masterCSV[splitIdx:length]\n",
    "#em.set_key(secondPart, \"RecID\")\n",
    "#print len(firstPart), len(secondPart), len(firstPart)*len(secondPart)"
   ]
  },
  {
   "cell_type": "code",
   "execution_count": null,
   "metadata": {
    "collapsed": false
   },
   "outputs": [],
   "source": [
    "print len(firstPart), len(secondPart)\n",
    "\n",
    "# Create attribute equivalence blocker\n",
    "ab = em.AttrEquivalenceBlocker()\n",
    "# Block tables using 'year' attribute: same year then include in the canidate set\n",
    "C1 = ab.block_tables(firstPart, secondPart, 'ZIP', 'ZIP',  l_output_attrs=['ZIP'], r_output_attrs=['ZIP'])\n",
    "print C1.head()\n",
    "\n",
    "# Create an overlap blocker\n",
    "ob = em.OverlapBlocker()\n",
    "\n",
    "# Apply overlap blocker on 'SSN' attribute\n",
    "C2 = ob.block_tables(firstPart, secondPart, 'SSN', 'SSN')\n",
    "print len(C2)\n",
    "\n",
    "# Combine blocker outputs\n",
    "C = em.combine_blocker_outputs_via_union([C1, C2])\n",
    "print len(C)\n",
    "\n"
   ]
  },
  {
   "cell_type": "code",
   "execution_count": null,
   "metadata": {
    "collapsed": false
   },
   "outputs": [],
   "source": [
    "# Block tables using 'year' attribute: same year then include in the canidate set\n",
    "C3 = ab.block_tables(firstPart, secondPart, 'State', 'State')\n",
    "\n",
    "# Combine blocker outputs\n",
    "C = em.combine_blocker_outputs_via_union([C, C3])\n",
    "print len(C)\n",
    "\n",
    "# Debug again\n",
    "#dbg = em.debug_blocker(C2, firstPart, secondPart, output_size=200)\n",
    "\n",
    "feature_table = em.get_features_for_blocking(firstPart, secondPart)"
   ]
  },
  {
   "cell_type": "code",
   "execution_count": null,
   "metadata": {
    "collapsed": true
   },
   "outputs": [],
   "source": []
  }
 ],
 "metadata": {
  "anaconda-cloud": {},
  "kernelspec": {
   "display_name": "Python [default]",
   "language": "python",
   "name": "python2"
  },
  "language_info": {
   "codemirror_mode": {
    "name": "ipython",
    "version": 2
   },
   "file_extension": ".py",
   "mimetype": "text/x-python",
   "name": "python",
   "nbconvert_exporter": "python",
   "pygments_lexer": "ipython2",
   "version": "2.7.12"
  }
 },
 "nbformat": 4,
 "nbformat_minor": 2
}
