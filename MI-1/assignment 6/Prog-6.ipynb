{
 "cells": [
  {
   "cell_type": "code",
   "execution_count": 32,
   "metadata": {},
   "outputs": [
    {
     "name": "stdout",
     "output_type": "stream",
     "text": [
      "Extracting MNIST_data/train-images-idx3-ubyte.gz\n",
      "Extracting MNIST_data/train-labels-idx1-ubyte.gz\n",
      "Extracting MNIST_data/t10k-images-idx3-ubyte.gz\n",
      "Extracting MNIST_data/t10k-labels-idx1-ubyte.gz\n"
     ]
    }
   ],
   "source": [
    "from tensorflow.examples.tutorials.mnist import input_data\n",
    "mnist = input_data.read_data_sets(\"MNIST_data/\", one_hot=True)"
   ]
  },
  {
   "cell_type": "code",
   "execution_count": 33,
   "metadata": {},
   "outputs": [
    {
     "name": "stdout",
     "output_type": "stream",
     "text": [
      "0.9242\n"
     ]
    }
   ],
   "source": [
    "# H6.1(a): Convolutional neural network\n",
    "\n",
    "\n",
    "x = tf.placeholder(tf.float32, [None, 784])\n",
    "W = tf.Variable(tf.zeros([784, 10]))\n",
    "b = tf.Variable(tf.zeros([10]))\n",
    "y = tf.matmul(x, W) + b\n",
    "\n",
    "y_ = tf.placeholder(tf.float32, [None, 10])\n",
    "cross_entropy = tf.reduce_mean(\n",
    "      tf.nn.softmax_cross_entropy_with_logits(labels=y_, logits=y))\n",
    "train_step = tf.train.GradientDescentOptimizer(0.5).minimize(cross_entropy)\n",
    "    \n",
    "    \n",
    "sess = tf.InteractiveSession()\n",
    "tf.global_variables_initializer().run()\n",
    "# Train\n",
    "for _ in range(10000):\n",
    "    batch_xs, batch_ys = mnist.train.next_batch(100)\n",
    "    sess.run(train_step, feed_dict={x: batch_xs, y_: batch_ys})\n",
    "\n",
    "# Test trained model\n",
    "correct_prediction = tf.equal(tf.argmax(y, 1), tf.argmax(y_, 1))\n",
    "accuracy = tf.reduce_mean(tf.cast(correct_prediction, tf.float32))\n",
    "print(sess.run(accuracy, feed_dict={x: mnist.test.images,\n",
    "                                      y_: mnist.test.labels}))"
   ]
  },
  {
   "cell_type": "code",
   "execution_count": 34,
   "metadata": {},
   "outputs": [
    {
     "name": "stdout",
     "output_type": "stream",
     "text": [
      "('Epoch:', '0001', 'cost=207.024674189')\n",
      "('Epoch:', '0002', 'cost=2.424256023')\n",
      "('Epoch:', '0003', 'cost=2.306154952')\n",
      "('Epoch:', '0004', 'cost=2.280731828')\n",
      "('Epoch:', '0005', 'cost=2.278764169')\n",
      "('Epoch:', '0006', 'cost=2.280941150')\n",
      "('Epoch:', '0007', 'cost=2.279685196')\n",
      "('Epoch:', '0008', 'cost=2.279601472')\n",
      "('Epoch:', '0009', 'cost=2.279936388')\n",
      "('Epoch:', '0010', 'cost=2.280145714')\n",
      "('Epoch:', '0011', 'cost=2.279978253')\n",
      "('Epoch:', '0012', 'cost=2.279727065')\n",
      "('Epoch:', '0013', 'cost=2.280103848')\n",
      "('Epoch:', '0014', 'cost=2.280103851')\n",
      "('Epoch:', '0015', 'cost=2.279099085')\n",
      "Optimization Finished!\n",
      "('Accuracy:', 0.1081)\n"
     ]
    }
   ],
   "source": [
    "# H6.1(b): Convolutional neural network\n",
    "\n",
    "learning_rate = 0.001\n",
    "training_epochs = 15\n",
    "batch_size = 100\n",
    "display_step = 1\n",
    "\n",
    "# Network Parameters\n",
    "n_hidden_1 = 256 # 1st layer number of neurons\n",
    "n_hidden_2 = 256 # 2nd layer number of neurons\n",
    "n_hidden_3 = 256 # 3rd layer number of neurons\n",
    "n_input = 784 # MNIST data input (img shape: 28*28)\n",
    "n_classes = 10 # MNIST total classes (0-9 digits)\n",
    "\n",
    "# Store layers weight & bias\n",
    "weights = {\n",
    "    'h1': tf.Variable(tf.truncated_normal(shape = [n_input, n_hidden_1], mean=0.0, stddev=1.0, dtype=tf.float32, seed=None, name=None)),\n",
    "    'h2': tf.Variable(tf.truncated_normal(shape = [n_hidden_1, n_hidden_2], mean=0.0, stddev=1.0, dtype=tf.float32, seed=None, name=None)),\n",
    "    'h3': tf.Variable(tf.truncated_normal(shape = [n_hidden_2, n_hidden_3], mean=0.0, stddev=1.0, dtype=tf.float32, seed=None, name=None)),\n",
    "    'out': tf.Variable(tf.truncated_normal(shape = [n_hidden_3, n_classes],mean=0.0, stddev=1.0, dtype=tf.float32, seed=None, name=None))\n",
    "}\n",
    "biases = {\n",
    "    'b1': tf.Variable(tf.constant(0.1, dtype=tf.float32, shape=[n_hidden_1])),\n",
    "    'b2': tf.Variable(tf.constant(0.1, dtype=tf.float32, shape=[n_hidden_2])),\n",
    "    'b3': tf.Variable(tf.constant(0.1, dtype=tf.float32, shape=[n_hidden_3])),\n",
    "    'out': tf.Variable(tf.constant(0.1, dtype=tf.float32, shape=[n_classes]))\n",
    "}\n",
    "\n",
    "# tf Graph input\n",
    "X = tf.placeholder(\"float\", [None, n_input])\n",
    "Y = tf.placeholder(\"float\", [None, n_classes])\n",
    "\n",
    "\n",
    "# Create model\n",
    "def multilayer_perceptron(x):\n",
    "    # Hidden fully connected layer with 1500 neurons\n",
    "    layer_1 = tf.nn.relu(tf.add(tf.matmul(x, weights['h1']), biases['b1']))\n",
    "    # Hidden fully connected layer with 1500 neurons\n",
    "    layer_2 = tf.nn.relu(tf.add(tf.matmul(layer_1, weights['h2']), biases['b2']))\n",
    "    # Hidden fully connected layer with 1500 neurons\n",
    "    layer_3 = tf.nn.relu(tf.add(tf.matmul(layer_2, weights['h3']), biases['b3']))\n",
    "    # Output fully connected layer with a neuron for each class\n",
    "    out_layer = tf.nn.relu(tf.matmul(layer_3, weights['out']) + biases['out'])\n",
    "    return out_layer\n",
    "\n",
    "# Construct model\n",
    "logits = multilayer_perceptron(X)\n",
    "\n",
    "# Define loss and optimizer\n",
    "loss_op = tf.reduce_mean(tf.nn.softmax_cross_entropy_with_logits(\n",
    "    logits=logits, labels=Y))\n",
    "optimizer = tf.train.AdamOptimizer(learning_rate=learning_rate, beta1=0.9, beta2=0.999, epsilon=1e-08)\n",
    "train_op = optimizer.minimize(loss_op)\n",
    "# Initializing the variables\n",
    "init = tf.global_variables_initializer()\n",
    "\n",
    "with tf.Session() as sess:\n",
    "    sess.run(init)\n",
    "\n",
    "    # Training cycle\n",
    "    for epoch in range(training_epochs):\n",
    "        avg_cost = 0.\n",
    "        total_batch = int(mnist.train.num_examples/batch_size)\n",
    "        # Loop over all batches\n",
    "        for i in range(total_batch):\n",
    "            batch_x, batch_y = mnist.train.next_batch(batch_size)\n",
    "            # Run optimization op (backprop) and cost op (to get loss value)\n",
    "            _, c = sess.run([train_op, loss_op], feed_dict={X: batch_x,\n",
    "                                                            Y: batch_y})\n",
    "            # Compute average loss\n",
    "            avg_cost += c / total_batch\n",
    "        # Display logs per epoch step\n",
    "        if epoch % display_step == 0:\n",
    "            print(\"Epoch:\", '%04d' % (epoch+1), \"cost={:.9f}\".format(avg_cost))\n",
    "    print(\"Optimization Finished!\")\n",
    "\n",
    "    # Test model\n",
    "    pred = tf.nn.softmax(logits)  # Apply softmax to logits\n",
    "    correct_prediction = tf.equal(tf.argmax(pred, 1), tf.argmax(Y, 1))\n",
    "    # Calculate accuracy\n",
    "    accuracy = tf.reduce_mean(tf.cast(correct_prediction, \"float\"))\n",
    "    print(\"Accuracy:\", accuracy.eval({X: mnist.test.images, Y: mnist.test.labels}))"
   ]
  },
  {
   "cell_type": "code",
   "execution_count": 38,
   "metadata": {},
   "outputs": [
    {
     "name": "stdout",
     "output_type": "stream",
     "text": [
      "('Epoch:', '0001', 'cost=2359.427681919')\n",
      "('Epoch:', '0002', 'cost=39.982846577')\n",
      "('Epoch:', '0003', 'cost=14.574386391')\n",
      "('Epoch:', '0004', 'cost=8.793618303')\n",
      "('Epoch:', '0005', 'cost=4.880583517')\n",
      "('Epoch:', '0006', 'cost=5.657732509')\n",
      "('Epoch:', '0007', 'cost=3.750380350')\n",
      "('Epoch:', '0008', 'cost=3.563727778')\n",
      "('Epoch:', '0009', 'cost=2.840681129')\n",
      "('Epoch:', '0010', 'cost=2.826663709')\n",
      "('Epoch:', '0011', 'cost=2.536143534')\n",
      "('Epoch:', '0012', 'cost=2.636626306')\n",
      "('Epoch:', '0013', 'cost=2.646878228')\n",
      "('Epoch:', '0014', 'cost=2.587732431')\n",
      "('Epoch:', '0015', 'cost=2.439223036')\n",
      "Optimization Finished!\n",
      "('Accuracy:', 0.097900003)\n"
     ]
    }
   ],
   "source": [
    "# H6.1(c): Convolutional neural network\n",
    "keep_prob = tf.placeholder(tf.float32)\n",
    "dropout = 0.5\n",
    "def multilayer_perceptron_dropout(x):\n",
    "    # Hidden fully connected layer with 1500 neurons\n",
    "    layer_1 = tf.nn.relu(tf.add(tf.matmul(x, weights['h1']), biases['b1']))\n",
    "    layer_1 = tf.nn.dropout(layer_1, keep_prob)\n",
    "    # Hidden fully connected layer with 1500 neurons\n",
    "    layer_2 = tf.nn.relu(tf.add(tf.matmul(layer_1, weights['h2']), biases['b2']))\n",
    "    layer_2 = tf.nn.dropout(layer_2, keep_prob)\n",
    "    # Hidden fully connected layer with 1500 neurons\n",
    "    layer_3 = tf.nn.relu(tf.add(tf.matmul(layer_2, weights['h3']), biases['b3']))\n",
    "    layer_3 = tf.nn.dropout(layer_3, keep_prob)\n",
    "    # Output fully connected layer with a neuron for each class\n",
    "    out_layer = tf.nn.relu(tf.matmul(layer_3, weights['out']) + biases['out'])\n",
    "    return out_layer\n",
    "\n",
    "# Construct model\n",
    "logits = multilayer_perceptron_dropout(X)\n",
    "\n",
    "# Define loss and optimizer\n",
    "loss_op = tf.reduce_mean(tf.nn.softmax_cross_entropy_with_logits(\n",
    "    logits=logits, labels=Y))\n",
    "optimizer = tf.train.AdamOptimizer(learning_rate=learning_rate, beta1=0.9, beta2=0.999, epsilon=1e-08)\n",
    "train_op = optimizer.minimize(loss_op)\n",
    "# Initializing the variables\n",
    "init = tf.global_variables_initializer()\n",
    "\n",
    "with tf.Session() as sess:\n",
    "    sess.run(init)\n",
    "\n",
    "    # Training cycle\n",
    "    for epoch in range(training_epochs):\n",
    "        avg_cost = 0.\n",
    "        total_batch = int(mnist.train.num_examples/batch_size)\n",
    "        # Loop over all batches\n",
    "        for i in range(total_batch):\n",
    "            batch_x, batch_y = mnist.train.next_batch(batch_size)\n",
    "            # Run optimization op (backprop) and cost op (to get loss value)\n",
    "            _, c = sess.run([train_op, loss_op], feed_dict={X: batch_x,\n",
    "                                                            Y: batch_y, keep_prob: 0.5})\n",
    "            # Compute average loss\n",
    "            avg_cost += c / total_batch\n",
    "        # Display logs per epoch step\n",
    "        if epoch % display_step == 0:\n",
    "            print(\"Epoch:\", '%04d' % (epoch+1), \"cost={:.9f}\".format(avg_cost))\n",
    "    print(\"Optimization Finished!\")\n",
    "\n",
    "    # Test model\n",
    "    pred = tf.nn.softmax(logits)  # Apply softmax to logits\n",
    "    correct_prediction = tf.equal(tf.argmax(pred, 1), tf.argmax(Y, 1))\n",
    "    # Calculate accuracy\n",
    "    accuracy = tf.reduce_mean(tf.cast(correct_prediction, \"float\"))\n",
    "    print(\"Accuracy:\", accuracy.eval({X: mnist.test.images, Y: mnist.test.labels, keep_prob: 0.5}))\n"
   ]
  },
  {
   "cell_type": "code",
   "execution_count": null,
   "metadata": {
    "collapsed": true
   },
   "outputs": [],
   "source": []
  },
  {
   "cell_type": "code",
   "execution_count": null,
   "metadata": {
    "collapsed": true
   },
   "outputs": [],
   "source": []
  },
  {
   "cell_type": "code",
   "execution_count": null,
   "metadata": {
    "collapsed": true
   },
   "outputs": [],
   "source": []
  }
 ],
 "metadata": {
  "kernelspec": {
   "display_name": "Python 2",
   "language": "python",
   "name": "python2"
  },
  "language_info": {
   "codemirror_mode": {
    "name": "ipython",
    "version": 2
   },
   "file_extension": ".py",
   "mimetype": "text/x-python",
   "name": "python",
   "nbconvert_exporter": "python",
   "pygments_lexer": "ipython2",
   "version": "2.7.14"
  }
 },
 "nbformat": 4,
 "nbformat_minor": 2
}
