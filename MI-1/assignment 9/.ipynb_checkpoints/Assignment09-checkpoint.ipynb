{
 "cells": [
  {
   "cell_type": "markdown",
   "metadata": {},
   "source": [
    "### Exercise Sheet  09"
   ]
  },
  {
   "cell_type": "markdown",
   "metadata": {},
   "source": [
    "#### ExerciseH9.1: Deriving the C-SVM optimization problem"
   ]
  },
  {
   "cell_type": "code",
   "execution_count": 3,
   "metadata": {
    "collapsed": true
   },
   "outputs": [],
   "source": [
    "import numpy as np\n",
    "import pandas as pd\n",
    "import random\n",
    "import math\n",
    "import matplotlib.pyplot as plt\n",
    "%matplotlib inline\n",
    "\n",
    "from sklearn.svm import SVC"
   ]
  },
  {
   "cell_type": "markdown",
   "metadata": {},
   "source": [
    "#### Create training data set"
   ]
  },
  {
   "cell_type": "markdown",
   "metadata": {},
   "source": [
    " Generate data for class -1"
   ]
  },
  {
   "cell_type": "code",
   "execution_count": 4,
   "metadata": {
    "collapsed": true
   },
   "outputs": [],
   "source": [
    "p = 40 # number of samples from normal distributions for each label value y=-1 and y=1\n",
    "\n",
    "mu1, sigma = np.asarray([0,1]), np.sqrt(0.1) # mean1 and standard deviation\n",
    "mu2, sigma = np.asarray([1,0]), np.sqrt(0.1) # mean2 and standard deviation\n",
    "\n",
    "n1 = np.random.normal(mu1, sigma, size=[p, 2])\n",
    "n2 = np.random.normal(mu2, sigma, size=[p, 2])\n",
    "\n",
    "## np.mean(n1, axis = 0), np.mean(n2, axis = 0)\n",
    "\n",
    "choice = np.random.choice([0,1],p)\n",
    "sample1 = np.where(choice, n1.T, n2.T).T   # p(x|y = 0) = 0.5*[N(x|mu1,sigma) + N(x|mu2, sigma)]\n",
    "# sample1.mean(axis = 0)"
   ]
  },
  {
   "cell_type": "markdown",
   "metadata": {},
   "source": [
    "Generate data for class 1"
   ]
  },
  {
   "cell_type": "code",
   "execution_count": 5,
   "metadata": {
    "collapsed": true
   },
   "outputs": [],
   "source": [
    "mu3, sigma = np.asarray([0,0]), np.sqrt(0.1) # mean3 and standard deviation\n",
    "mu4, sigma = np.asarray([1,1]), np.sqrt(0.1) # mean4 and standard deviation\n",
    "\n",
    "n3 = np.random.normal(mu3, sigma, size=[p, 2])\n",
    "n4 = np.random.normal(mu4, sigma, size=[p, 2])\n",
    "\n",
    "## np.mean(n3, axis = 0), np.mean(n4, axis = 0)\n",
    "\n",
    "choice = np.random.choice([0,1],p)\n",
    "sample2 = np.where(choice, n3.T, n4.T).T   # p(x|y = 1) = 0.5*[N(x|mu3,sigma) + N(x|mu4, sigma)]"
   ]
  },
  {
   "cell_type": "code",
   "execution_count": 6,
   "metadata": {
    "collapsed": true
   },
   "outputs": [],
   "source": [
    "class0_data = np.concatenate((sample1.T, -np.ones((p, 1)).T), axis = 0).T\n",
    "class1_data = np.concatenate((sample2.T, np.ones((p, 1)).T), axis = 0).T"
   ]
  },
  {
   "cell_type": "code",
   "execution_count": 7,
   "metadata": {},
   "outputs": [
    {
     "data": {
      "text/plain": [
       "<matplotlib.legend.Legend at 0x1a17268990>"
      ]
     },
     "execution_count": 7,
     "metadata": {},
     "output_type": "execute_result"
    },
    {
     "data": {
      "image/png": "[encoded data removed]",
      "text/plain": [
       "<matplotlib.figure.Figure at 0x1a171f3850>"
      ]
     },
     "metadata": {},
     "output_type": "display_data"
    }
   ],
   "source": [
    "plt.scatter(class0_data[:, 0], class0_data[:,1], label = \"class -1\")\n",
    "plt.scatter(class1_data[:, 0], class1_data[:,1], label = \"class 1\",color = \"red\")\n",
    "plt.title(\"Training data set\")\n",
    "plt.legend()"
   ]
  },
  {
   "cell_type": "code",
   "execution_count": 8,
   "metadata": {
    "collapsed": true
   },
   "outputs": [],
   "source": [
    "training = np.concatenate([class0_data, class1_data])"
   ]
  },
  {
   "cell_type": "markdown",
   "metadata": {},
   "source": [
    "#### Create test data set"
   ]
  },
  {
   "cell_type": "markdown",
   "metadata": {},
   "source": [
    "Generate data for class -1"
   ]
  },
  {
   "cell_type": "code",
   "execution_count": 9,
   "metadata": {
    "collapsed": true
   },
   "outputs": [],
   "source": [
    "p = 40 # number of samples from normal distributions for each label value y=-1 and y=1\n",
    "\n",
    "mu1, sigma = np.asarray([0,1]), np.sqrt(0.1) # mean1 and standard deviation\n",
    "mu2, sigma = np.asarray([1,0]), np.sqrt(0.1) # mean2 and standard deviation\n",
    "\n",
    "n1 = np.random.normal(mu1, sigma, size=[p, 2])\n",
    "n2 = np.random.normal(mu2, sigma, size=[p, 2])\n",
    "\n",
    "## np.mean(n1, axis = 0), np.mean(n2, axis = 0)\n",
    "\n",
    "choice = np.random.choice([0,1],p)\n",
    "sample1 = np.where(choice, n1.T, n2.T).T   # p(x|y = 0) = 0.5*[N(x|mu1,sigma) + N(x|mu2, sigma)]"
   ]
  },
  {
   "cell_type": "markdown",
   "metadata": {},
   "source": [
    "Generate data for class 1"
   ]
  },
  {
   "cell_type": "code",
   "execution_count": 10,
   "metadata": {
    "collapsed": true
   },
   "outputs": [],
   "source": [
    "mu3, sigma = np.asarray([0,0]), np.sqrt(0.1) # mean3 and standard deviation\n",
    "mu4, sigma = np.asarray([1,1]), np.sqrt(0.1) # mean4 and standard deviation\n",
    "\n",
    "n3 = np.random.normal(mu3, sigma, size=[p, 2])\n",
    "n4 = np.random.normal(mu4, sigma, size=[p, 2])\n",
    "\n",
    "## np.mean(n3, axis = 0), np.mean(n4, axis = 0)\n",
    "\n",
    "choice = np.random.choice([0,1],p)\n",
    "sample2 = np.where(choice, n3.T, n4.T).T   # p(x|y = 1) = 0.5*[N(x|mu3,sigma) + N(x|mu4, sigma)]"
   ]
  },
  {
   "cell_type": "code",
   "execution_count": 11,
   "metadata": {
    "collapsed": true
   },
   "outputs": [],
   "source": [
    "class0_data = np.concatenate((sample1.T, -np.ones((p, 1)).T), axis = 0).T\n",
    "class1_data = np.concatenate((sample2.T, np.ones((p, 1)).T), axis = 0).T"
   ]
  },
  {
   "cell_type": "code",
   "execution_count": 12,
   "metadata": {},
   "outputs": [
    {
     "data": {
      "text/plain": [
       "<matplotlib.legend.Legend at 0x1a17393bd0>"
      ]
     },
     "execution_count": 12,
     "metadata": {},
     "output_type": "execute_result"
    },
    {
     "data": {
      "image/png": "[encoded data removed]",
      "text/plain": [
       "<matplotlib.figure.Figure at 0x1a171f3410>"
      ]
     },
     "metadata": {},
     "output_type": "display_data"
    }
   ],
   "source": [
    "plt.scatter(class0_data[:, 0], class0_data[:,1], label = \"class -1\")\n",
    "plt.scatter(class1_data[:, 0], class1_data[:,1], label = \"class 1\",color = \"red\")\n",
    "plt.title(\"Testing data set\")\n",
    "plt.legend()"
   ]
  },
  {
   "cell_type": "code",
   "execution_count": 13,
   "metadata": {
    "collapsed": true
   },
   "outputs": [],
   "source": [
    "testing = np.concatenate([class0_data, class1_data])"
   ]
  },
  {
   "cell_type": "markdown",
   "metadata": {},
   "source": [
    "#### Train the C-SVM on the training data with RBF kernel and the software’s standard parameters."
   ]
  },
  {
   "cell_type": "code",
   "execution_count": 14,
   "metadata": {
    "collapsed": true
   },
   "outputs": [],
   "source": [
    "Xtrain = training[:, :2]\n",
    "ytrain = training[:,2]"
   ]
  },
  {
   "cell_type": "code",
   "execution_count": 15,
   "metadata": {
    "collapsed": true
   },
   "outputs": [],
   "source": [
    "clf = SVC()\n",
    "svc = clf.fit(Xtrain, ytrain) "
   ]
  },
  {
   "cell_type": "code",
   "execution_count": 16,
   "metadata": {
    "collapsed": true
   },
   "outputs": [],
   "source": [
    "Xtest = testing[:,:2]\n",
    "ytest = testing[:,2]"
   ]
  },
  {
   "cell_type": "markdown",
   "metadata": {},
   "source": [
    "#### Classify the test data and report the classiﬁcation error quantiﬁed by the 0/1 loss function (percentage of wrong predictions)."
   ]
  },
  {
   "cell_type": "code",
   "execution_count": 17,
   "metadata": {
    "collapsed": true
   },
   "outputs": [],
   "source": [
    "y_predicted = clf.predict(Xtest)"
   ]
  },
  {
   "cell_type": "code",
   "execution_count": 18,
   "metadata": {},
   "outputs": [
    {
     "name": "stdout",
     "output_type": "stream",
     "text": [
      "Percentage of wrong predictions: 17.50\n"
     ]
    }
   ],
   "source": [
    "classification_error = (1 - float(np.sum(np.equal(y_predicted, ytest)))/ytest.shape[0])*100\n",
    "print(\"Percentage of wrong predictions: %0.2f\" %classification_error)"
   ]
  },
  {
   "cell_type": "markdown",
   "metadata": {},
   "source": [
    "#### Visualize the results as in exercise H7.2: plot the training patterns and the decision boundary (e.g. with a contour plot) in input space. Additionally, highlight the support vectors.\n"
   ]
  },
  {
   "cell_type": "code",
   "execution_count": 19,
   "metadata": {},
   "outputs": [
    {
     "ename": "NameError",
     "evalue": "name 'support_vectors' is not defined",
     "output_type": "error",
     "traceback": [
      "\u001b[0;31m---------------------------------------------------------------------------\u001b[0m",
      "\u001b[0;31mNameError\u001b[0m                                 Traceback (most recent call last)",
      "\u001b[0;32m<ipython-input-19-7b7c8d97bb22>\u001b[0m in \u001b[0;36m<module>\u001b[0;34m()\u001b[0m\n\u001b[1;32m     18\u001b[0m \u001b[0mplt\u001b[0m\u001b[0;34m.\u001b[0m\u001b[0mscatter\u001b[0m\u001b[0;34m(\u001b[0m\u001b[0mclass_1\u001b[0m\u001b[0;34m[\u001b[0m\u001b[0;34m:\u001b[0m\u001b[0;34m,\u001b[0m\u001b[0;36m0\u001b[0m\u001b[0;34m]\u001b[0m\u001b[0;34m,\u001b[0m \u001b[0mclass_1\u001b[0m\u001b[0;34m[\u001b[0m\u001b[0;34m:\u001b[0m\u001b[0;34m,\u001b[0m\u001b[0;36m1\u001b[0m\u001b[0;34m]\u001b[0m\u001b[0;34m,\u001b[0m \u001b[0ms\u001b[0m\u001b[0;34m=\u001b[0m\u001b[0;36m60\u001b[0m\u001b[0;34m,\u001b[0m \u001b[0mcolor\u001b[0m \u001b[0;34m=\u001b[0m \u001b[0;34m'lightgreen'\u001b[0m\u001b[0;34m,\u001b[0m \u001b[0mlabel\u001b[0m \u001b[0;34m=\u001b[0m \u001b[0;34m\"class 1\"\u001b[0m\u001b[0;34m)\u001b[0m\u001b[0;34m\u001b[0m\u001b[0m\n\u001b[1;32m     19\u001b[0m \u001b[0mplt\u001b[0m\u001b[0;34m.\u001b[0m\u001b[0mscatter\u001b[0m\u001b[0;34m(\u001b[0m\u001b[0mclass_2\u001b[0m\u001b[0;34m[\u001b[0m\u001b[0;34m:\u001b[0m\u001b[0;34m,\u001b[0m\u001b[0;36m0\u001b[0m\u001b[0;34m]\u001b[0m\u001b[0;34m,\u001b[0m \u001b[0mclass_2\u001b[0m\u001b[0;34m[\u001b[0m\u001b[0;34m:\u001b[0m\u001b[0;34m,\u001b[0m\u001b[0;36m1\u001b[0m\u001b[0;34m]\u001b[0m\u001b[0;34m,\u001b[0m \u001b[0ms\u001b[0m\u001b[0;34m=\u001b[0m\u001b[0;36m60\u001b[0m\u001b[0;34m,\u001b[0m \u001b[0mcolor\u001b[0m \u001b[0;34m=\u001b[0m \u001b[0;34m'lightblue'\u001b[0m\u001b[0;34m,\u001b[0m \u001b[0mlabel\u001b[0m \u001b[0;34m=\u001b[0m \u001b[0;34m\"class -1\"\u001b[0m\u001b[0;34m)\u001b[0m\u001b[0;34m\u001b[0m\u001b[0m\n\u001b[0;32m---> 20\u001b[0;31m \u001b[0mplt\u001b[0m\u001b[0;34m.\u001b[0m\u001b[0mscatter\u001b[0m\u001b[0;34m(\u001b[0m\u001b[0msupport_vectors\u001b[0m\u001b[0;34m[\u001b[0m\u001b[0;34m:\u001b[0m\u001b[0;34m,\u001b[0m\u001b[0;36m0\u001b[0m\u001b[0;34m]\u001b[0m\u001b[0;34m,\u001b[0m \u001b[0msupport_vectors\u001b[0m\u001b[0;34m[\u001b[0m\u001b[0;34m:\u001b[0m\u001b[0;34m,\u001b[0m\u001b[0;36m1\u001b[0m\u001b[0;34m]\u001b[0m\u001b[0;34m,\u001b[0m \u001b[0ms\u001b[0m\u001b[0;34m=\u001b[0m\u001b[0;36m60\u001b[0m\u001b[0;34m,\u001b[0m \u001b[0mcolor\u001b[0m \u001b[0;34m=\u001b[0m \u001b[0;34m'orange'\u001b[0m\u001b[0;34m,\u001b[0m \u001b[0mlabel\u001b[0m \u001b[0;34m=\u001b[0m \u001b[0;34m\"support vectors\"\u001b[0m\u001b[0;34m)\u001b[0m\u001b[0;34m\u001b[0m\u001b[0m\n\u001b[0m\u001b[1;32m     21\u001b[0m \u001b[0mplt\u001b[0m\u001b[0;34m.\u001b[0m\u001b[0mlegend\u001b[0m\u001b[0;34m(\u001b[0m\u001b[0;34m)\u001b[0m\u001b[0;34m\u001b[0m\u001b[0m\n",
      "\u001b[0;31mNameError\u001b[0m: name 'support_vectors' is not defined"
     ]
    },
    {
     "data": {
      "image/png": "[encoded data removed]",
      "text/plain": [
       "<matplotlib.figure.Figure at 0x1a172c6e90>"
      ]
     },
     "metadata": {},
     "output_type": "display_data"
    }
   ],
   "source": [
    "n = 50\n",
    "x = np.linspace(-1, 2, n)\n",
    "X, Y = np.meshgrid(x, x)\n",
    "points = np.vstack([X.flatten(), Y.flatten()]).T\n",
    "\n",
    "\n",
    "\n",
    "Z = np.zeros(shape=(n,n)).flatten()\n",
    "Z = svc.predict(points)\n",
    "Z = Z.reshape((n,n))\n",
    "\n",
    "\n",
    "plt.contour(X, Y, Z)\n",
    "\n",
    "class_1 = training[training[:,2]==1, :]\n",
    "class_2 = training[training[:,2]==-1, :]\n",
    "\n",
    "plt.scatter(class_1[:,0], class_1[:,1], s=60, color = 'lightgreen', label = \"class 1\")\n",
    "plt.scatter(class_2[:,0], class_2[:,1], s=60, color = 'lightblue', label = \"class -1\")\n",
    "plt.scatter(support_vectors[:,0], support_vectors[:,1], s=60, color = 'orange', label = \"support vectors\")\n",
    "plt.legend()"
   ]
  },
  {
   "cell_type": "code",
   "execution_count": 351,
   "metadata": {},
   "outputs": [
    {
     "name": "stdout",
     "output_type": "stream",
     "text": [
      "Number of support vectors = 54\n"
     ]
    }
   ],
   "source": [
    "print(\"Number of support vectors = %i\" %svc.support_vectors_.shape[0]) "
   ]
  },
  {
   "cell_type": "markdown",
   "metadata": {},
   "source": [
    "#### ExerciseH9.3: C-SVM parameter optimization"
   ]
  },
  {
   "cell_type": "code",
   "execution_count": 328,
   "metadata": {
    "collapsed": true
   },
   "outputs": [],
   "source": [
    "from sklearn.model_selection import GridSearchCV\n",
    "from sklearn.metrics import classification_report"
   ]
  },
  {
   "cell_type": "code",
   "execution_count": 329,
   "metadata": {},
   "outputs": [
    {
     "data": {
      "text/plain": [
       "GridSearchCV(cv=4, error_score='raise',\n",
       "       estimator=SVC(C=1.0, cache_size=200, class_weight=None, coef0=0.0,\n",
       "  decision_function_shape='ovr', degree=3, gamma='auto', kernel='rbf',\n",
       "  max_iter=-1, probability=False, random_state=None, shrinking=True,\n",
       "  tol=0.001, verbose=False),\n",
       "       fit_params=None, iid=True, n_jobs=1,\n",
       "       param_grid=[{'kernel': ['rbf'], 'C': [0.004957504353332717, 0.036631277777468357, 0.2706705664732254, 2.0, 14.778112197861301, 109.19630006628847, 806.85758698547022, 5961.9159740834566, 44052.931589613436], 'gamma': [0.013475893998170934, 0.099574136735727889, 0.73575888234288467, 5.4365636569180902, 40.171073846375336, 296.8263182051532, 2193.266316856917, 16206.167855150768]}],\n",
       "       pre_dispatch='2*n_jobs', refit=True, return_train_score='warn',\n",
       "       scoring=None, verbose=0)"
      ]
     },
     "execution_count": 329,
     "metadata": {},
     "output_type": "execute_result"
    }
   ],
   "source": [
    "# Set the parameters by cross-validation\n",
    "\n",
    "gamma_exponents = np.arange(-5, 10, 2)\n",
    "C_exponents = np.arange(-6, 11, 2)\n",
    "\n",
    "gamma = [2*np.exp(exponent) for exponent in gamma_exponents]\n",
    "C = [2*np.exp(exponent) for exponent in C_exponents]\n",
    "\n",
    "tuned_parameters = [{'kernel': ['rbf'], 'gamma': gamma, 'C': C}]\n",
    "\n",
    "svm = GridSearchCV(estimator = SVC(), param_grid= tuned_parameters, cv=4)\n",
    "svm.fit(Xtrain, ytrain)"
   ]
  },
  {
   "cell_type": "code",
   "execution_count": 330,
   "metadata": {
    "collapsed": true
   },
   "outputs": [],
   "source": [
    "X, Y = np.meshgrid(C, gamma)\n",
    "points = np.vstack([X.flatten(), Y.flatten()]).T"
   ]
  },
  {
   "cell_type": "code",
   "execution_count": 331,
   "metadata": {},
   "outputs": [
    {
     "data": {
      "text/plain": [
       "((8L, 9L), (8L, 9L), (72L, 2L))"
      ]
     },
     "execution_count": 331,
     "metadata": {},
     "output_type": "execute_result"
    }
   ],
   "source": [
    "X.shape, Y.shape, points.shape"
   ]
  },
  {
   "cell_type": "code",
   "execution_count": 332,
   "metadata": {},
   "outputs": [
    {
     "data": {
      "image/png": "[encoded data removed]",
      "text/plain": [
       "<matplotlib.figure.Figure at 0x13ee3908>"
      ]
     },
     "metadata": {},
     "output_type": "display_data"
    }
   ],
   "source": [
    "Z = np.zeros(shape=(len(gamma), len(C))).flatten()\n",
    "Z = svm.cv_results_['mean_test_score']\n",
    "Z = Z.reshape((len(gamma), len(C)))\n",
    "\n",
    "\n",
    "CS = plt.contour(X, Y, Z)\n",
    "cbar = plt.colorbar(CS)\n",
    "cbar.ax.set_ylabel('mean test classification rate')\n",
    "plt.show()"
   ]
  },
  {
   "cell_type": "code",
   "execution_count": 333,
   "metadata": {},
   "outputs": [
    {
     "name": "stdout",
     "output_type": "stream",
     "text": [
      "('Best score for data1:', 0.90000000000000002)\n"
     ]
    }
   ],
   "source": [
    "print('Best score for data1:', svm.best_score_) "
   ]
  },
  {
   "cell_type": "code",
   "execution_count": 334,
   "metadata": {},
   "outputs": [
    {
     "name": "stdout",
     "output_type": "stream",
     "text": [
      "('Best C:', 5961.9159740834566)\n",
      "('Best Gamma:', 0.73575888234288467)\n"
     ]
    }
   ],
   "source": [
    "# View the best parameters for the model found using grid search\n",
    "print('Best C:',svm.best_estimator_.C) \n",
    "print('Best Gamma:',svm.best_estimator_.gamma)"
   ]
  },
  {
   "cell_type": "code",
   "execution_count": 335,
   "metadata": {},
   "outputs": [
    {
     "data": {
      "text/plain": [
       "0.80000000000000004"
      ]
     },
     "execution_count": 335,
     "metadata": {},
     "output_type": "execute_result"
    }
   ],
   "source": [
    "svm.score(Xtest, ytest) "
   ]
  },
  {
   "cell_type": "code",
   "execution_count": 336,
   "metadata": {},
   "outputs": [
    {
     "data": {
      "text/plain": [
       "0.90000000000000002"
      ]
     },
     "execution_count": 336,
     "metadata": {},
     "output_type": "execute_result"
    }
   ],
   "source": [
    "class_performance = SVC(C=0.004957504353332717, kernel='rbf', gamma=5.4365636569180902).fit(Xtrain, ytrain).score(Xtest, ytest)\n",
    "class_performance"
   ]
  },
  {
   "cell_type": "code",
   "execution_count": 337,
   "metadata": {
    "collapsed": true
   },
   "outputs": [],
   "source": [
    "new = SVC(C=0.004957504353332717, kernel='rbf', gamma=5.4365636569180902).fit(Xtrain, ytrain)"
   ]
  },
  {
   "cell_type": "code",
   "execution_count": 1,
   "metadata": {},
   "outputs": [
    {
     "ename": "NameError",
     "evalue": "name 'np' is not defined",
     "output_type": "error",
     "traceback": [
      "\u001b[0;31m---------------------------------------------------------------------------\u001b[0m",
      "\u001b[0;31mNameError\u001b[0m                                 Traceback (most recent call last)",
      "\u001b[0;32m<ipython-input-1-91a3668148af>\u001b[0m in \u001b[0;36m<module>\u001b[0;34m()\u001b[0m\n\u001b[1;32m      1\u001b[0m \u001b[0mn\u001b[0m \u001b[0;34m=\u001b[0m \u001b[0;36m50\u001b[0m\u001b[0;34m\u001b[0m\u001b[0m\n\u001b[0;32m----> 2\u001b[0;31m \u001b[0mx\u001b[0m \u001b[0;34m=\u001b[0m \u001b[0mnp\u001b[0m\u001b[0;34m.\u001b[0m\u001b[0mlinspace\u001b[0m\u001b[0;34m(\u001b[0m\u001b[0;34m-\u001b[0m\u001b[0;36m1\u001b[0m\u001b[0;34m,\u001b[0m \u001b[0;36m2\u001b[0m\u001b[0;34m,\u001b[0m \u001b[0mn\u001b[0m\u001b[0;34m)\u001b[0m\u001b[0;34m\u001b[0m\u001b[0m\n\u001b[0m\u001b[1;32m      3\u001b[0m \u001b[0mX\u001b[0m\u001b[0;34m,\u001b[0m \u001b[0mY\u001b[0m \u001b[0;34m=\u001b[0m \u001b[0mnp\u001b[0m\u001b[0;34m.\u001b[0m\u001b[0mmeshgrid\u001b[0m\u001b[0;34m(\u001b[0m\u001b[0mx\u001b[0m\u001b[0;34m,\u001b[0m \u001b[0mx\u001b[0m\u001b[0;34m)\u001b[0m\u001b[0;34m\u001b[0m\u001b[0m\n\u001b[1;32m      4\u001b[0m \u001b[0mpoints\u001b[0m \u001b[0;34m=\u001b[0m \u001b[0mnp\u001b[0m\u001b[0;34m.\u001b[0m\u001b[0mvstack\u001b[0m\u001b[0;34m(\u001b[0m\u001b[0;34m[\u001b[0m\u001b[0mX\u001b[0m\u001b[0;34m.\u001b[0m\u001b[0mflatten\u001b[0m\u001b[0;34m(\u001b[0m\u001b[0;34m)\u001b[0m\u001b[0;34m,\u001b[0m \u001b[0mY\u001b[0m\u001b[0;34m.\u001b[0m\u001b[0mflatten\u001b[0m\u001b[0;34m(\u001b[0m\u001b[0;34m)\u001b[0m\u001b[0;34m]\u001b[0m\u001b[0;34m)\u001b[0m\u001b[0;34m.\u001b[0m\u001b[0mT\u001b[0m\u001b[0;34m\u001b[0m\u001b[0m\n\u001b[1;32m      5\u001b[0m \u001b[0;34m\u001b[0m\u001b[0m\n",
      "\u001b[0;31mNameError\u001b[0m: name 'np' is not defined"
     ]
    }
   ],
   "source": [
    "n = 50\n",
    "x = np.linspace(-1, 2, n)\n",
    "X, Y = np.meshgrid(x, x)\n",
    "points = np.vstack([X.flatten(), Y.flatten()]).T\n",
    "\n",
    "\n",
    "\n",
    "Z = np.zeros(shape=(n,n)).flatten()\n",
    "Z = new.predict(points)\n",
    "Z = Z.reshape((n,n))\n",
    "\n",
    "\n",
    "plt.contour(X, Y, Z)\n",
    "\n",
    "class_1 = training[training[:,2]==1, :]\n",
    "class_2 = training[training[:,2]==-1, :]\n",
    "\n",
    "plt.scatter(class_1[:,0], class_1[:,1], s=60, color = 'lightgreen', label = \"class 1\")\n",
    "plt.scatter(class_2[:,0], class_2[:,1], s=60, color = 'lightblue', label = \"class -1\")\n",
    "plt.scatter(new.support_vectors_[:,0], new.support_vectors_[:,1], s=60, color = 'orange', label = \"support vectors\")\n",
    "plt.legend()"
   ]
  },
  {
   "cell_type": "code",
   "execution_count": 2,
   "metadata": {},
   "outputs": [
    {
     "ename": "NameError",
     "evalue": "name 'class_performance' is not defined",
     "output_type": "error",
     "traceback": [
      "\u001b[0;31m---------------------------------------------------------------------------\u001b[0m",
      "\u001b[0;31mNameError\u001b[0m                                 Traceback (most recent call last)",
      "\u001b[0;32m<ipython-input-2-871ef3f2345c>\u001b[0m in \u001b[0;36m<module>\u001b[0;34m()\u001b[0m\n\u001b[0;32m----> 1\u001b[0;31m \u001b[0;32mprint\u001b[0m\u001b[0;34m(\u001b[0m\u001b[0;34m\"Percentage of wrong predictions on the testing set: %0.2f\"\u001b[0m \u001b[0;34m%\u001b[0m\u001b[0;34m(\u001b[0m\u001b[0;34m(\u001b[0m\u001b[0;36m1\u001b[0m\u001b[0;34m-\u001b[0m\u001b[0mclass_performance\u001b[0m\u001b[0;34m)\u001b[0m\u001b[0;34m*\u001b[0m\u001b[0;36m100\u001b[0m\u001b[0;34m)\u001b[0m\u001b[0;34m)\u001b[0m\u001b[0;34m\u001b[0m\u001b[0m\n\u001b[0m",
      "\u001b[0;31mNameError\u001b[0m: name 'class_performance' is not defined"
     ]
    }
   ],
   "source": [
    "print(\"Percentage of wrong predictions on the testing set: %0.2f\" %((1-class_performance)*100))"
   ]
  },
  {
   "cell_type": "code",
   "execution_count": 350,
   "metadata": {},
   "outputs": [
    {
     "name": "stdout",
     "output_type": "stream",
     "text": [
      "Number of support vectors = 80\n"
     ]
    }
   ],
   "source": [
    "print(\"Number of support vectors = %i\" %new.support_vectors_.shape[0])"
   ]
  },
  {
   "cell_type": "code",
   "execution_count": 352,
   "metadata": {
    "collapsed": true
   },
   "outputs": [],
   "source": [
    "new1 = SVC(C=0.004957504353332717/4, kernel='rbf', gamma=5.4365636569180902).fit(Xtrain, ytrain)"
   ]
  },
  {
   "cell_type": "code",
   "execution_count": 353,
   "metadata": {},
   "outputs": [
    {
     "data": {
      "text/plain": [
       "<matplotlib.legend.Legend at 0x13517a90>"
      ]
     },
     "execution_count": 353,
     "metadata": {},
     "output_type": "execute_result"
    },
    {
     "data": {
      "image/png": "[encoded data removed]",
      "text/plain": [
       "<matplotlib.figure.Figure at 0x1453bf60>"
      ]
     },
     "metadata": {},
     "output_type": "display_data"
    }
   ],
   "source": [
    "n = 50\n",
    "x = np.linspace(-1, 2, n)\n",
    "X, Y = np.meshgrid(x, x)\n",
    "points = np.vstack([X.flatten(), Y.flatten()]).T\n",
    "\n",
    "\n",
    "\n",
    "Z = np.zeros(shape=(n,n)).flatten()\n",
    "Z = new1.predict(points)\n",
    "Z = Z.reshape((n,n))\n",
    "\n",
    "\n",
    "plt.contour(X, Y, Z)\n",
    "\n",
    "class_1 = training[training[:,2]==1, :]\n",
    "class_2 = training[training[:,2]==-1, :]\n",
    "\n",
    "plt.scatter(class_1[:,0], class_1[:,1], s=60, color = 'lightgreen', label = \"class 1\")\n",
    "plt.scatter(class_2[:,0], class_2[:,1], s=60, color = 'lightblue', label = \"class -1\")\n",
    "plt.scatter(new1.support_vectors_[:,0], new1.support_vectors_[:,1], s=60, color = 'orange', label = \"support vectors\")\n",
    "plt.legend()"
   ]
  },
  {
   "cell_type": "code",
   "execution_count": 357,
   "metadata": {
    "collapsed": true
   },
   "outputs": [],
   "source": [
    "new1 = SVC(C=0.004957504353332717, kernel='rbf', gamma=5.4365636569180902/4).fit(Xtrain, ytrain)"
   ]
  },
  {
   "cell_type": "code",
   "execution_count": 358,
   "metadata": {},
   "outputs": [
    {
     "data": {
      "text/plain": [
       "<matplotlib.legend.Legend at 0x12051f60>"
      ]
     },
     "execution_count": 358,
     "metadata": {},
     "output_type": "execute_result"
    },
    {
     "data": {
      "image/png": "[encoded data removed]",
      "text/plain": [
       "<matplotlib.figure.Figure at 0x1434f0b8>"
      ]
     },
     "metadata": {},
     "output_type": "display_data"
    }
   ],
   "source": [
    "n = 50\n",
    "x = np.linspace(-1, 2, n)\n",
    "X, Y = np.meshgrid(x, x)\n",
    "points = np.vstack([X.flatten(), Y.flatten()]).T\n",
    "\n",
    "\n",
    "\n",
    "Z = np.zeros(shape=(n,n)).flatten()\n",
    "Z = new1.predict(points)\n",
    "Z = Z.reshape((n,n))\n",
    "\n",
    "\n",
    "plt.contour(X, Y, Z)\n",
    "\n",
    "class_1 = training[training[:,2]==1, :]\n",
    "class_2 = training[training[:,2]==-1, :]\n",
    "\n",
    "plt.scatter(class_1[:,0], class_1[:,1], s=60, color = 'lightgreen', label = \"class 1\")\n",
    "plt.scatter(class_2[:,0], class_2[:,1], s=60, color = 'lightblue', label = \"class -1\")\n",
    "plt.scatter(new1.support_vectors_[:,0], new1.support_vectors_[:,1], s=60, color = 'orange', label = \"support vectors\")\n",
    "plt.legend()"
   ]
  },
  {
   "cell_type": "code",
   "execution_count": null,
   "metadata": {
    "collapsed": true
   },
   "outputs": [],
   "source": []
  }
 ],
 "metadata": {
  "kernelspec": {
   "display_name": "Python 2",
   "language": "python",
   "name": "python2"
  },
  "language_info": {
   "codemirror_mode": {
    "name": "ipython",
    "version": 2
   },
   "file_extension": ".py",
   "mimetype": "text/x-python",
   "name": "python",
   "nbconvert_exporter": "python",
   "pygments_lexer": "ipython2",
   "version": "2.7.14"
  }
 },
 "nbformat": 4,
 "nbformat_minor": 2
}
