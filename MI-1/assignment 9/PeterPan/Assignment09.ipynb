{
 "cells": [
  {
   "cell_type": "markdown",
   "metadata": {},
   "source": [
    "### Exercise Sheet  09"
   ]
  },
  {
   "cell_type": "markdown",
   "metadata": {},
   "source": [
    "#### ExerciseH9.1: Deriving the C-SVM optimization problem"
   ]
  },
  {
   "cell_type": "code",
   "execution_count": 74,
   "metadata": {
    "collapsed": true
   },
   "outputs": [],
   "source": [
    "import numpy as np\n",
    "import pandas as pd\n",
    "import random\n",
    "import math\n",
    "import matplotlib.pyplot as plt\n",
    "%matplotlib inline\n",
    "\n",
    "from sklearn.svm import SVC"
   ]
  },
  {
   "cell_type": "markdown",
   "metadata": {},
   "source": [
    "#### Create training data set"
   ]
  },
  {
   "cell_type": "markdown",
   "metadata": {},
   "source": [
    " Generate data for class -1"
   ]
  },
  {
   "cell_type": "code",
   "execution_count": 75,
   "metadata": {
    "collapsed": true
   },
   "outputs": [],
   "source": [
    "p = 40 # number of samples from normal distributions for each label value y=-1 and y=1\n",
    "\n",
    "mu1, sigma = np.asarray([0,1]), np.sqrt(0.1) # mean1 and standard deviation\n",
    "mu2, sigma = np.asarray([1,0]), np.sqrt(0.1) # mean2 and standard deviation\n",
    "\n",
    "n1 = np.random.normal(mu1, sigma, size=[p, 2])\n",
    "n2 = np.random.normal(mu2, sigma, size=[p, 2])\n",
    "\n",
    "## np.mean(n1, axis = 0), np.mean(n2, axis = 0)\n",
    "\n",
    "choice = np.random.choice([0,1],p)\n",
    "sample1 = np.where(choice, n1.T, n2.T).T   # p(x|y = 0) = 0.5*[N(x|mu1,sigma) + N(x|mu2, sigma)]\n",
    "# sample1.mean(axis = 0)"
   ]
  },
  {
   "cell_type": "markdown",
   "metadata": {},
   "source": [
    "Generate data for class 1"
   ]
  },
  {
   "cell_type": "code",
   "execution_count": 76,
   "metadata": {
    "collapsed": true
   },
   "outputs": [],
   "source": [
    "mu3, sigma = np.asarray([0,0]), np.sqrt(0.1) # mean3 and standard deviation\n",
    "mu4, sigma = np.asarray([1,1]), np.sqrt(0.1) # mean4 and standard deviation\n",
    "\n",
    "n3 = np.random.normal(mu3, sigma, size=[p, 2])\n",
    "n4 = np.random.normal(mu4, sigma, size=[p, 2])\n",
    "\n",
    "## np.mean(n3, axis = 0), np.mean(n4, axis = 0)\n",
    "\n",
    "choice = np.random.choice([0,1],p)\n",
    "sample2 = np.where(choice, n3.T, n4.T).T   # p(x|y = 1) = 0.5*[N(x|mu3,sigma) + N(x|mu4, sigma)]"
   ]
  },
  {
   "cell_type": "code",
   "execution_count": 77,
   "metadata": {
    "collapsed": true
   },
   "outputs": [],
   "source": [
    "class0_data = np.concatenate((sample1.T, -np.ones((p, 1)).T), axis = 0).T\n",
    "class1_data = np.concatenate((sample2.T, np.ones((p, 1)).T), axis = 0).T"
   ]
  },
  {
   "cell_type": "code",
   "execution_count": 78,
   "metadata": {},
   "outputs": [
    {
     "data": {
      "text/plain": [
       "<matplotlib.legend.Legend at 0x10a78d68>"
      ]
     },
     "execution_count": 78,
     "metadata": {},
     "output_type": "execute_result"
    },
    {
     "data": {
      "image/png": "[encoded data removed]",
      "text/plain": [
       "<matplotlib.figure.Figure at 0x108326d8>"
      ]
     },
     "metadata": {},
     "output_type": "display_data"
    }
   ],
   "source": [
    "plt.scatter(class0_data[:, 0], class0_data[:,1], label = \"class -1\")\n",
    "plt.scatter(class1_data[:, 0], class1_data[:,1], label = \"class 1\",color = \"red\")\n",
    "plt.title(\"Training data set\")\n",
    "plt.legend()"
   ]
  },
  {
   "cell_type": "code",
   "execution_count": 79,
   "metadata": {
    "collapsed": true
   },
   "outputs": [],
   "source": [
    "training = np.concatenate([class0_data, class1_data])"
   ]
  },
  {
   "cell_type": "markdown",
   "metadata": {},
   "source": [
    "#### Create test data set"
   ]
  },
  {
   "cell_type": "markdown",
   "metadata": {},
   "source": [
    "Generate data for class -1"
   ]
  },
  {
   "cell_type": "code",
   "execution_count": 80,
   "metadata": {
    "collapsed": true
   },
   "outputs": [],
   "source": [
    "p = 40 # number of samples from normal distributions for each label value y=-1 and y=1\n",
    "\n",
    "mu1, sigma = np.asarray([0,1]), np.sqrt(0.1) # mean1 and standard deviation\n",
    "mu2, sigma = np.asarray([1,0]), np.sqrt(0.1) # mean2 and standard deviation\n",
    "\n",
    "n1 = np.random.normal(mu1, sigma, size=[p, 2])\n",
    "n2 = np.random.normal(mu2, sigma, size=[p, 2])\n",
    "\n",
    "## np.mean(n1, axis = 0), np.mean(n2, axis = 0)\n",
    "\n",
    "choice = np.random.choice([0,1],p)\n",
    "sample1 = np.where(choice, n1.T, n2.T).T   # p(x|y = 0) = 0.5*[N(x|mu1,sigma) + N(x|mu2, sigma)]"
   ]
  },
  {
   "cell_type": "markdown",
   "metadata": {},
   "source": [
    "Generate data for class 1"
   ]
  },
  {
   "cell_type": "code",
   "execution_count": 81,
   "metadata": {
    "collapsed": true
   },
   "outputs": [],
   "source": [
    "mu3, sigma = np.asarray([0,0]), np.sqrt(0.1) # mean3 and standard deviation\n",
    "mu4, sigma = np.asarray([1,1]), np.sqrt(0.1) # mean4 and standard deviation\n",
    "\n",
    "n3 = np.random.normal(mu3, sigma, size=[p, 2])\n",
    "n4 = np.random.normal(mu4, sigma, size=[p, 2])\n",
    "\n",
    "## np.mean(n3, axis = 0), np.mean(n4, axis = 0)\n",
    "\n",
    "choice = np.random.choice([0,1],p)\n",
    "sample2 = np.where(choice, n3.T, n4.T).T   # p(x|y = 1) = 0.5*[N(x|mu3,sigma) + N(x|mu4, sigma)]"
   ]
  },
  {
   "cell_type": "code",
   "execution_count": 82,
   "metadata": {
    "collapsed": true
   },
   "outputs": [],
   "source": [
    "class0_data = np.concatenate((sample1.T, -np.ones((p, 1)).T), axis = 0).T\n",
    "class1_data = np.concatenate((sample2.T, np.ones((p, 1)).T), axis = 0).T"
   ]
  },
  {
   "cell_type": "code",
   "execution_count": 83,
   "metadata": {},
   "outputs": [
    {
     "data": {
      "text/plain": [
       "<matplotlib.legend.Legend at 0x10cea8d0>"
      ]
     },
     "execution_count": 83,
     "metadata": {},
     "output_type": "execute_result"
    },
    {
     "data": {
      "image/png": "[encoded data removed]",
      "text/plain": [
       "<matplotlib.figure.Figure at 0xe0a66a0>"
      ]
     },
     "metadata": {},
     "output_type": "display_data"
    }
   ],
   "source": [
    "plt.scatter(class0_data[:, 0], class0_data[:,1], label = \"class -1\")\n",
    "plt.scatter(class1_data[:, 0], class1_data[:,1], label = \"class 1\",color = \"red\")\n",
    "plt.title(\"Testing data set\")\n",
    "plt.legend()"
   ]
  },
  {
   "cell_type": "code",
   "execution_count": 84,
   "metadata": {
    "collapsed": true
   },
   "outputs": [],
   "source": [
    "testing = np.concatenate([class0_data, class1_data])"
   ]
  },
  {
   "cell_type": "markdown",
   "metadata": {},
   "source": [
    "#### Train the C-SVM on the training data with RBF kernel and the software’s standard parameters."
   ]
  },
  {
   "cell_type": "code",
   "execution_count": 85,
   "metadata": {
    "collapsed": true
   },
   "outputs": [],
   "source": [
    "Xtrain = training[:, :2]\n",
    "ytrain = training[:,2]"
   ]
  },
  {
   "cell_type": "code",
   "execution_count": 86,
   "metadata": {
    "collapsed": true
   },
   "outputs": [],
   "source": [
    "clf = SVC()\n",
    "svc = clf.fit(Xtrain, ytrain) "
   ]
  },
  {
   "cell_type": "code",
   "execution_count": 87,
   "metadata": {},
   "outputs": [
    {
     "name": "stdout",
     "output_type": "stream",
     "text": [
      "Training set accuracy = 0.90\n"
     ]
    }
   ],
   "source": [
    "print(\"Training set accuracy = %0.2f\" %svc.score(Xtrain, ytrain))"
   ]
  },
  {
   "cell_type": "code",
   "execution_count": 88,
   "metadata": {
    "collapsed": true
   },
   "outputs": [],
   "source": [
    "Xtest = testing[:,:2]\n",
    "ytest = testing[:,2]"
   ]
  },
  {
   "cell_type": "code",
   "execution_count": 89,
   "metadata": {},
   "outputs": [
    {
     "name": "stdout",
     "output_type": "stream",
     "text": [
      "Total number of support vectors = 46\n"
     ]
    }
   ],
   "source": [
    "print(\"Total number of support vectors = %i\" %svc.support_vectors_.shape[0]) "
   ]
  },
  {
   "cell_type": "code",
   "execution_count": 90,
   "metadata": {},
   "outputs": [
    {
     "name": "stdout",
     "output_type": "stream",
     "text": [
      "('Number of support vectors for each class: ', array([23, 23]))\n"
     ]
    }
   ],
   "source": [
    "print(\"Number of support vectors for each class: \", svc.n_support_)"
   ]
  },
  {
   "cell_type": "markdown",
   "metadata": {},
   "source": [
    "#### Classify the test data and report the classiﬁcation error quantiﬁed by the 0/1 loss function (percentage of wrong predictions)."
   ]
  },
  {
   "cell_type": "code",
   "execution_count": 91,
   "metadata": {
    "collapsed": true
   },
   "outputs": [],
   "source": [
    "y_predicted = clf.predict(Xtest)"
   ]
  },
  {
   "cell_type": "code",
   "execution_count": 92,
   "metadata": {},
   "outputs": [
    {
     "name": "stdout",
     "output_type": "stream",
     "text": [
      "Percentage of wrong predictions: 18.75\n"
     ]
    }
   ],
   "source": [
    "classification_error = (1 - float(np.sum(np.equal(y_predicted, ytest)))/ytest.shape[0])*100\n",
    "print(\"Percentage of wrong predictions: %0.2f\" %classification_error)"
   ]
  },
  {
   "cell_type": "code",
   "execution_count": 93,
   "metadata": {},
   "outputs": [
    {
     "name": "stdout",
     "output_type": "stream",
     "text": [
      "The mean accuracy on the given test data and labels = 0.81\n"
     ]
    }
   ],
   "source": [
    "print(\"The mean accuracy on the given test data and labels = %0.2f\" %svc.score(Xtest, ytest))"
   ]
  },
  {
   "cell_type": "markdown",
   "metadata": {},
   "source": [
    "#### Visualize the results as in exercise H7.2: plot the training patterns and the decision boundary (e.g. with a contour plot) in input space. Additionally, highlight the support vectors.\n"
   ]
  },
  {
   "cell_type": "code",
   "execution_count": 94,
   "metadata": {},
   "outputs": [
    {
     "data": {
      "text/plain": [
       "<matplotlib.legend.Legend at 0x10ef35c0>"
      ]
     },
     "execution_count": 94,
     "metadata": {},
     "output_type": "execute_result"
    },
    {
     "data": {
      "image/png": "[encoded data removed]",
      "text/plain": [
       "<matplotlib.figure.Figure at 0x108cf748>"
      ]
     },
     "metadata": {},
     "output_type": "display_data"
    }
   ],
   "source": [
    "n = 50\n",
    "x = np.linspace(-1, 2, n)\n",
    "X, Y = np.meshgrid(x, x)\n",
    "points = np.vstack([X.flatten(), Y.flatten()]).T\n",
    "\n",
    "\n",
    "\n",
    "Z = np.zeros(shape=(n,n)).flatten()\n",
    "Z = svc.predict(points)\n",
    "Z = Z.reshape((n,n))\n",
    "\n",
    "\n",
    "plt.contour(X, Y, Z)\n",
    "\n",
    "class_1 = training[training[:,2]==1, :]\n",
    "class_2 = training[training[:,2]==-1, :]\n",
    "\n",
    "plt.scatter(class_1[:,0], class_1[:,1], s=60, color = 'lightgreen', label = \"class 1\")\n",
    "plt.scatter(class_2[:,0], class_2[:,1], s=60, color = 'lightblue', label = \"class -1\")\n",
    "plt.scatter(svc.support_vectors_[:,0], svc.support_vectors_[:,1], s=60, color = 'orange', label = \"support vectors\")\n",
    "plt.legend()"
   ]
  },
  {
   "cell_type": "markdown",
   "metadata": {},
   "source": [
    "#### ExerciseH9.3: C-SVM parameter optimization"
   ]
  },
  {
   "cell_type": "code",
   "execution_count": 95,
   "metadata": {
    "collapsed": true
   },
   "outputs": [],
   "source": [
    "from sklearn.model_selection import GridSearchCV\n",
    "from sklearn.metrics import classification_report"
   ]
  },
  {
   "cell_type": "code",
   "execution_count": 96,
   "metadata": {},
   "outputs": [
    {
     "data": {
      "text/plain": [
       "GridSearchCV(cv=4, error_score='raise',\n",
       "       estimator=SVC(C=1.0, cache_size=200, class_weight=None, coef0=0.0,\n",
       "  decision_function_shape='ovr', degree=3, gamma='auto', kernel='rbf',\n",
       "  max_iter=-1, probability=False, random_state=None, shrinking=True,\n",
       "  tol=0.001, verbose=False),\n",
       "       fit_params=None, iid=True, n_jobs=1,\n",
       "       param_grid=[{'kernel': ['rbf'], 'C': [0.004957504353332717, 0.036631277777468357, 0.2706705664732254, 2.0, 14.778112197861301, 109.19630006628847, 806.85758698547022, 5961.9159740834566, 44052.931589613436], 'gamma': [0.013475893998170934, 0.099574136735727889, 0.73575888234288467, 5.4365636569180902, 40.171073846375336, 296.8263182051532, 2193.266316856917, 16206.167855150768]}],\n",
       "       pre_dispatch='2*n_jobs', refit=True, return_train_score='warn',\n",
       "       scoring=None, verbose=0)"
      ]
     },
     "execution_count": 96,
     "metadata": {},
     "output_type": "execute_result"
    }
   ],
   "source": [
    "# Set the parameters by cross-validation\n",
    "\n",
    "gamma_exponents = np.arange(-5, 10, 2)\n",
    "C_exponents = np.arange(-6, 11, 2)\n",
    "\n",
    "gamma = [2*np.exp(exponent) for exponent in gamma_exponents]\n",
    "C = [2*np.exp(exponent) for exponent in C_exponents]\n",
    "\n",
    "tuned_parameters = [{'kernel': ['rbf'], 'gamma': gamma, 'C': C}]\n",
    "\n",
    "svm = GridSearchCV(estimator = SVC(), param_grid= tuned_parameters, cv=4)\n",
    "svm.fit(Xtrain, ytrain)"
   ]
  },
  {
   "cell_type": "code",
   "execution_count": 97,
   "metadata": {
    "collapsed": true
   },
   "outputs": [],
   "source": [
    "X, Y = np.meshgrid(C, gamma)\n",
    "points = np.vstack([X.flatten(), Y.flatten()]).T"
   ]
  },
  {
   "cell_type": "code",
   "execution_count": 98,
   "metadata": {},
   "outputs": [
    {
     "data": {
      "text/plain": [
       "((8L, 9L), (8L, 9L), (72L, 2L))"
      ]
     },
     "execution_count": 98,
     "metadata": {},
     "output_type": "execute_result"
    }
   ],
   "source": [
    "X.shape, Y.shape, points.shape"
   ]
  },
  {
   "cell_type": "code",
   "execution_count": 332,
   "metadata": {},
   "outputs": [
    {
     "data": {
      "image/png": "[encoded data removed]",
      "text/plain": [
       "<matplotlib.figure.Figure at 0x13ee3908>"
      ]
     },
     "metadata": {},
     "output_type": "display_data"
    }
   ],
   "source": [
    "Z = np.zeros(shape=(len(gamma), len(C))).flatten()\n",
    "Z = svm.cv_results_['mean_test_score']\n",
    "Z = Z.reshape((len(gamma), len(C)))\n",
    "\n",
    "\n",
    "CS = plt.contour(X, Y, Z)\n",
    "cbar = plt.colorbar(CS)\n",
    "cbar.ax.set_ylabel('mean test classification rate')\n",
    "plt.show()"
   ]
  },
  {
   "cell_type": "code",
   "execution_count": 126,
   "metadata": {},
   "outputs": [
    {
     "name": "stdout",
     "output_type": "stream",
     "text": [
      "Best score on training set= 0.90\n"
     ]
    }
   ],
   "source": [
    "print('Best score on training set= %0.2f' %svm.best_score_) "
   ]
  },
  {
   "cell_type": "code",
   "execution_count": 127,
   "metadata": {},
   "outputs": [
    {
     "name": "stdout",
     "output_type": "stream",
     "text": [
      "('Best parameters:', {'kernel': 'rbf', 'C': 14.778112197861301, 'gamma': 0.73575888234288467})\n"
     ]
    }
   ],
   "source": [
    "print('Best parameters:', svm.best_params_) "
   ]
  },
  {
   "cell_type": "code",
   "execution_count": 128,
   "metadata": {},
   "outputs": [
    {
     "name": "stdout",
     "output_type": "stream",
     "text": [
      "('Best C:', 14.778112197861301)\n",
      "('Best Gamma:', 0.73575888234288467)\n"
     ]
    }
   ],
   "source": [
    "# View the best parameters for the model found using grid search\n",
    "print('Best C:',svm.best_estimator_.C) \n",
    "print('Best Gamma:',svm.best_estimator_.gamma)"
   ]
  },
  {
   "cell_type": "code",
   "execution_count": 129,
   "metadata": {
    "collapsed": true
   },
   "outputs": [],
   "source": [
    "new = SVC(C=svm.best_estimator_.C, kernel='rbf', gamma=svm.best_estimator_.gamma).fit(Xtrain, ytrain)"
   ]
  },
  {
   "cell_type": "code",
   "execution_count": 130,
   "metadata": {},
   "outputs": [
    {
     "data": {
      "text/plain": [
       "<matplotlib.legend.Legend at 0x11771898>"
      ]
     },
     "execution_count": 130,
     "metadata": {},
     "output_type": "execute_result"
    },
    {
     "data": {
      "image/png": "[encoded data removed]",
      "text/plain": [
       "<matplotlib.figure.Figure at 0x11562278>"
      ]
     },
     "metadata": {},
     "output_type": "display_data"
    }
   ],
   "source": [
    "n = 50\n",
    "x = np.linspace(-1, 2, n)\n",
    "X, Y = np.meshgrid(x, x)\n",
    "points = np.vstack([X.flatten(), Y.flatten()]).T\n",
    "\n",
    "\n",
    "\n",
    "Z = np.zeros(shape=(n,n)).flatten()\n",
    "Z = new.predict(points)\n",
    "Z = Z.reshape((n,n))\n",
    "\n",
    "\n",
    "plt.contour(X, Y, Z)\n",
    "\n",
    "class_1 = training[training[:,2]==1, :]\n",
    "class_2 = training[training[:,2]==-1, :]\n",
    "\n",
    "plt.scatter(class_1[:,0], class_1[:,1], s=60, color = 'lightgreen', label = \"class 1\")\n",
    "plt.scatter(class_2[:,0], class_2[:,1], s=60, color = 'lightblue', label = \"class -1\")\n",
    "plt.scatter(new.support_vectors_[:,0], new.support_vectors_[:,1], s=60, color = 'orange', label = \"support vectors\")\n",
    "plt.legend()"
   ]
  },
  {
   "cell_type": "code",
   "execution_count": 131,
   "metadata": {},
   "outputs": [
    {
     "name": "stdout",
     "output_type": "stream",
     "text": [
      "Percentage of wrong predictions on the testing set: 16.25\n"
     ]
    }
   ],
   "source": [
    "print(\"Percentage of wrong predictions on the testing set: %0.2f\" %((1-class_performance)*100))"
   ]
  },
  {
   "cell_type": "code",
   "execution_count": 132,
   "metadata": {},
   "outputs": [
    {
     "name": "stdout",
     "output_type": "stream",
     "text": [
      "Accuracy= 0.84\n"
     ]
    }
   ],
   "source": [
    "print(\"Accuracy= %0.2f\" %class_performance)"
   ]
  },
  {
   "cell_type": "code",
   "execution_count": 139,
   "metadata": {},
   "outputs": [
    {
     "name": "stdout",
     "output_type": "stream",
     "text": [
      "Number of support vectors = 22\n"
     ]
    }
   ],
   "source": [
    "print(\"Number of support vectors = %i\" %new.support_vectors_.shape[0])"
   ]
  },
  {
   "cell_type": "markdown",
   "metadata": {},
   "source": [
    "##### What happens when you divide C or γ by 4?\n"
   ]
  },
  {
   "cell_type": "code",
   "execution_count": 134,
   "metadata": {},
   "outputs": [],
   "source": [
    "new1 = SVC(C=svm.best_estimator_.C/4, kernel='rbf', gamma=svm.best_estimator_.gamma).fit(Xtrain, ytrain)"
   ]
  },
  {
   "cell_type": "code",
   "execution_count": 135,
   "metadata": {},
   "outputs": [
    {
     "data": {
      "text/plain": [
       "<matplotlib.legend.Legend at 0x11923c88>"
      ]
     },
     "execution_count": 135,
     "metadata": {},
     "output_type": "execute_result"
    },
    {
     "data": {
      "image/png": "[encoded data removed]",
      "text/plain": [
       "<matplotlib.figure.Figure at 0x10d887f0>"
      ]
     },
     "metadata": {},
     "output_type": "display_data"
    }
   ],
   "source": [
    "n = 50\n",
    "x = np.linspace(-1, 2, n)\n",
    "X, Y = np.meshgrid(x, x)\n",
    "points = np.vstack([X.flatten(), Y.flatten()]).T\n",
    "\n",
    "\n",
    "\n",
    "Z = np.zeros(shape=(n,n)).flatten()\n",
    "Z = new1.predict(points)\n",
    "Z = Z.reshape((n,n))\n",
    "\n",
    "\n",
    "plt.contour(X, Y, Z)\n",
    "\n",
    "class_1 = training[training[:,2]==1, :]\n",
    "class_2 = training[training[:,2]==-1, :]\n",
    "\n",
    "plt.scatter(class_1[:,0], class_1[:,1], s=60, color = 'lightgreen', label = \"class 1\")\n",
    "plt.scatter(class_2[:,0], class_2[:,1], s=60, color = 'lightblue', label = \"class -1\")\n",
    "plt.scatter(new1.support_vectors_[:,0], new1.support_vectors_[:,1], s=60, color = 'orange', label = \"support vectors\")\n",
    "plt.legend()"
   ]
  },
  {
   "cell_type": "code",
   "execution_count": 136,
   "metadata": {},
   "outputs": [
    {
     "name": "stdout",
     "output_type": "stream",
     "text": [
      "Number of support vectors = 29\n"
     ]
    }
   ],
   "source": [
    "print(\"Number of support vectors = %i\" %new1.support_vectors_.shape[0])"
   ]
  },
  {
   "cell_type": "code",
   "execution_count": 137,
   "metadata": {},
   "outputs": [
    {
     "name": "stdout",
     "output_type": "stream",
     "text": [
      "Percentage of wrong predictions: 15.00\n"
     ]
    }
   ],
   "source": [
    "y_predicted = new1.predict(Xtest)\n",
    "classification_error = (1 - float(np.sum(np.equal(y_predicted, ytest)))/ytest.shape[0])*100\n",
    "print(\"Percentage of wrong predictions: %0.2f\" %classification_error)"
   ]
  },
  {
   "cell_type": "code",
   "execution_count": 138,
   "metadata": {},
   "outputs": [
    {
     "name": "stdout",
     "output_type": "stream",
     "text": [
      "Accuracy= 0.850\n"
     ]
    }
   ],
   "source": [
    "print(\"Accuracy= %0.3f\" %new1.score(Xtest, ytest))"
   ]
  },
  {
   "cell_type": "code",
   "execution_count": 118,
   "metadata": {
    "collapsed": true
   },
   "outputs": [],
   "source": [
    "new2 = SVC(C=svm.best_estimator_.C, kernel='rbf', gamma=svm.best_estimator_.gamma/4).fit(Xtrain, ytrain)"
   ]
  },
  {
   "cell_type": "code",
   "execution_count": 119,
   "metadata": {},
   "outputs": [
    {
     "data": {
      "text/plain": [
       "<matplotlib.legend.Legend at 0x114eac50>"
      ]
     },
     "execution_count": 119,
     "metadata": {},
     "output_type": "execute_result"
    },
    {
     "data": {
      "image/png": "[encoded data removed]",
      "text/plain": [
       "<matplotlib.figure.Figure at 0x10633828>"
      ]
     },
     "metadata": {},
     "output_type": "display_data"
    }
   ],
   "source": [
    "n = 50\n",
    "x = np.linspace(-1, 2, n)\n",
    "X, Y = np.meshgrid(x, x)\n",
    "points = np.vstack([X.flatten(), Y.flatten()]).T\n",
    "\n",
    "\n",
    "\n",
    "Z = np.zeros(shape=(n,n)).flatten()\n",
    "Z = new2.predict(points)\n",
    "Z = Z.reshape((n,n))\n",
    "\n",
    "\n",
    "plt.contour(X, Y, Z)\n",
    "\n",
    "class_1 = training[training[:,2]==1, :]\n",
    "class_2 = training[training[:,2]==-1, :]\n",
    "\n",
    "plt.scatter(class_1[:,0], class_1[:,1], s=60, color = 'lightgreen', label = \"class 1\")\n",
    "plt.scatter(class_2[:,0], class_2[:,1], s=60, color = 'lightblue', label = \"class -1\")\n",
    "plt.scatter(new2.support_vectors_[:,0], new2.support_vectors_[:,1], s=60, color = 'orange', label = \"support vectors\")\n",
    "plt.legend()"
   ]
  },
  {
   "cell_type": "code",
   "execution_count": 120,
   "metadata": {},
   "outputs": [
    {
     "name": "stdout",
     "output_type": "stream",
     "text": [
      "Percentage of wrong predictions: 22.50\n"
     ]
    }
   ],
   "source": [
    "print(\"Percentage of wrong predictions: %0.2f\" %((1-new2.score(Xtest, ytest))*100))"
   ]
  },
  {
   "cell_type": "code",
   "execution_count": 121,
   "metadata": {},
   "outputs": [
    {
     "name": "stdout",
     "output_type": "stream",
     "text": [
      "Accuracy= 0.775\n"
     ]
    }
   ],
   "source": [
    "print(\"Accuracy= %0.3f\" %new2.score(Xtest, ytest))"
   ]
  },
  {
   "cell_type": "code",
   "execution_count": 124,
   "metadata": {},
   "outputs": [
    {
     "name": "stdout",
     "output_type": "stream",
     "text": [
      "Number of support vectors = 33\n"
     ]
    }
   ],
   "source": [
    "print(\"Number of support vectors = %i\" %new2.support_vectors_.shape[0])"
   ]
  }
 ],
 "metadata": {
  "kernelspec": {
   "display_name": "Python 2",
   "language": "python",
   "name": "python2"
  },
  "language_info": {
   "codemirror_mode": {
    "name": "ipython",
    "version": 2
   },
   "file_extension": ".py",
   "mimetype": "text/x-python",
   "name": "python",
   "nbconvert_exporter": "python",
   "pygments_lexer": "ipython2",
   "version": "2.7.14"
  }
 },
 "nbformat": 4,
 "nbformat_minor": 2
}
