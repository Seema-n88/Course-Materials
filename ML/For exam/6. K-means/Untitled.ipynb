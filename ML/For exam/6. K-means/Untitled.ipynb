{
 "cells": [
  {
   "cell_type": "code",
   "execution_count": 6,
   "metadata": {
    "collapsed": false
   },
   "outputs": [
    {
     "name": "stdout",
     "output_type": "stream",
     "text": [
      "[[  1.89099025e-09   1.57801261e-09   1.29973554e-09 ...,   0.00000000e+00\n",
      "    0.00000000e+00   0.00000000e+00]\n",
      " [  1.21823784e-09   1.21591015e-09   1.36641576e-09 ...,   0.00000000e+00\n",
      "    0.00000000e+00   0.00000000e+00]\n",
      " [  1.08944054e-09   1.15227583e-09   1.66554603e-09 ...,   0.00000000e+00\n",
      "    0.00000000e+00   0.00000000e+00]\n",
      " ..., \n",
      " [  0.00000000e+00   0.00000000e+00   0.00000000e+00 ...,   1.54203604e-04\n",
      "    1.71590800e-04   1.31472916e-04]\n",
      " [  0.00000000e+00   0.00000000e+00   0.00000000e+00 ...,   1.10104345e-04\n",
      "    1.98541733e-04   1.96127934e-04]\n",
      " [  0.00000000e+00   0.00000000e+00   0.00000000e+00 ...,   1.99388276e-04\n",
      "    1.77998823e-04   1.61564662e-04]]\n"
     ]
    }
   ],
   "source": [
    "import numpy as np\n",
    "import utils\n",
    "\n",
    "data = utils.population\n",
    "\n",
    "def initialize(data,sigma,k):\n",
    "    P = data/np.sum(data)\n",
    "    random = np.random.choice(range(0,P.size), size = k, replace = False, p =P.flatten())\n",
    "    loc = np.unravel_index(random, P.shape)\n",
    "    long_list = \n",
    "    lat_list = \n",
    "\n",
    "initialize(data, 0.01, 20)"
   ]
  },
  {
   "cell_type": "code",
   "execution_count": null,
   "metadata": {
    "collapsed": true
   },
   "outputs": [],
   "source": []
  }
 ],
 "metadata": {
  "anaconda-cloud": {},
  "kernelspec": {
   "display_name": "Python [default]",
   "language": "python",
   "name": "python2"
  },
  "language_info": {
   "codemirror_mode": {
    "name": "ipython",
    "version": 2
   },
   "file_extension": ".py",
   "mimetype": "text/x-python",
   "name": "python",
   "nbconvert_exporter": "python",
   "pygments_lexer": "ipython2",
   "version": "2.7.12"
  }
 },
 "nbformat": 4,
 "nbformat_minor": 1
}
